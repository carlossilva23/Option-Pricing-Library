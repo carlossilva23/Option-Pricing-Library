{
 "cells": [
  {
   "cell_type": "markdown",
   "id": "6b86c05c-6892-4796-96b9-2070903e36f2",
   "metadata": {},
   "source": [
    "Create a 1D NumPy array containing integers from 0 to 19.\n",
    "\n",
    "Create a 4×5 2D array filled with zeros, then set all elements in the second row to 1.\n",
    "\n",
    "Create a 3×3 identity matrix using a NumPy built-in function.\n",
    "\n",
    "Generate a 1D array of 50 values between 0 and 10 (inclusive) using linspace.\n",
    "\n",
    "Create a 5×5 matrix with random integers between 10 and 99.\n",
    "\n",
    "From a 1D array of numbers 0 to 29, reshape it into a 6×5 matrix, then extract the last two rows.\n",
    "\n",
    "Slice out the second column of a 4×4 matrix.\n",
    "\n",
    "Take a 3×3 matrix and flatten it into a 1D array.\n",
    "\n",
    "From a 5×5 matrix, replace all elements divisible by 3 with -1.\n",
    "\n",
    "Create two 2×3 arrays with random values and add them together elementwise.\n",
    "\n",
    "Take an array of numbers from 0 to 9 and square each element using vectorized syntax.\n",
    "\n",
    "Create a 5×5 array of random floats and clip all values to stay between 0.2 and 0.8.\n",
    "\n",
    "Create a 100-element array of random values and compute the mean, std, min, and max.\n",
    "\n",
    "Generate a 6×6 matrix of integers and compute the sum of each column and each row.\n",
    "\n",
    "Create a column vector of shape (5,1) and a row vector of shape (1,4), then use broadcasting to produce a 5×4 matrix where each entry is their product."
   ]
  },
  {
   "cell_type": "code",
   "execution_count": 1,
   "id": "2d05422a-3b72-4491-8466-4f89461faf93",
   "metadata": {},
   "outputs": [
    {
     "name": "stdout",
     "output_type": "stream",
     "text": [
      "[ 0  1  2  3  4  5  6  7  8  9 10 11 12 13 14 15 16 17 18 19]\n"
     ]
    }
   ],
   "source": [
    "import numpy as np\n",
    "\n",
    "a = np.arange(20)\n",
    "print(a)"
   ]
  },
  {
   "cell_type": "code",
   "execution_count": 3,
   "id": "eca1c557-fb75-4ab5-8e7a-940b4403b429",
   "metadata": {},
   "outputs": [
    {
     "name": "stdout",
     "output_type": "stream",
     "text": [
      "[[0. 0. 0. 0. 0.]\n",
      " [0. 0. 0. 0. 0.]\n",
      " [0. 0. 0. 0. 0.]\n",
      " [0. 0. 0. 0. 0.]]\n",
      "[[0. 0. 0. 0. 0.]\n",
      " [1. 1. 1. 1. 1.]\n",
      " [0. 0. 0. 0. 0.]\n",
      " [0. 0. 0. 0. 0.]]\n"
     ]
    }
   ],
   "source": [
    "b = np.zeros((4,5))\n",
    "print(b)\n",
    "b[1,:] = 1\n",
    "print(b)"
   ]
  },
  {
   "cell_type": "code",
   "execution_count": 4,
   "id": "9658effc-1c10-4888-a101-41a6ccd643a7",
   "metadata": {},
   "outputs": [
    {
     "name": "stdout",
     "output_type": "stream",
     "text": [
      "[[1. 0. 0.]\n",
      " [0. 1. 0.]\n",
      " [0. 0. 1.]]\n"
     ]
    }
   ],
   "source": [
    "c = np.identity(3)\n",
    "print(c)"
   ]
  },
  {
   "cell_type": "code",
   "execution_count": 6,
   "id": "6cb3cdfc-b112-4aaf-a2bc-316b93f1e75c",
   "metadata": {},
   "outputs": [
    {
     "name": "stdout",
     "output_type": "stream",
     "text": [
      "[ 0.          0.20408163  0.40816327  0.6122449   0.81632653  1.02040816\n",
      "  1.2244898   1.42857143  1.63265306  1.83673469  2.04081633  2.24489796\n",
      "  2.44897959  2.65306122  2.85714286  3.06122449  3.26530612  3.46938776\n",
      "  3.67346939  3.87755102  4.08163265  4.28571429  4.48979592  4.69387755\n",
      "  4.89795918  5.10204082  5.30612245  5.51020408  5.71428571  5.91836735\n",
      "  6.12244898  6.32653061  6.53061224  6.73469388  6.93877551  7.14285714\n",
      "  7.34693878  7.55102041  7.75510204  7.95918367  8.16326531  8.36734694\n",
      "  8.57142857  8.7755102   8.97959184  9.18367347  9.3877551   9.59183673\n",
      "  9.79591837 10.        ]\n"
     ]
    }
   ],
   "source": [
    "d = np.linspace(0, 10, 50)\n",
    "print(d)"
   ]
  },
  {
   "cell_type": "code",
   "execution_count": 7,
   "id": "8145322b-18d9-47d2-911a-830933d50880",
   "metadata": {},
   "outputs": [
    {
     "name": "stdout",
     "output_type": "stream",
     "text": [
      "[[44 28 43 49 95]\n",
      " [49 22 50 40 48]\n",
      " [46 65 24 42 84]\n",
      " [89 45 80 48 54]\n",
      " [78 93 21 69 48]]\n"
     ]
    }
   ],
   "source": [
    "rng = np.random.default_rng()\n",
    "e = rng.integers(10, 100, size=(5,5))\n",
    "print(e)"
   ]
  },
  {
   "cell_type": "code",
   "execution_count": 10,
   "id": "4c7693b0-e0b9-418d-86ea-a1d102efef39",
   "metadata": {},
   "outputs": [
    {
     "name": "stdout",
     "output_type": "stream",
     "text": [
      "[ 0  1  2  3  4  5  6  7  8  9 10 11 12 13 14 15 16 17 18 19 20 21 22 23\n",
      " 24 25 26 27 28 29]\n",
      "[[ 0  1  2  3  4]\n",
      " [ 5  6  7  8  9]\n",
      " [10 11 12 13 14]\n",
      " [15 16 17 18 19]]\n"
     ]
    }
   ],
   "source": [
    "f = np.arange(30)\n",
    "print(f)\n",
    "g = f.reshape(6,5)\n",
    "print(g[0:4])"
   ]
  },
  {
   "cell_type": "code",
   "execution_count": 14,
   "id": "f6e3f97b-790c-4f21-9ab2-24505f069393",
   "metadata": {},
   "outputs": [
    {
     "name": "stdout",
     "output_type": "stream",
     "text": [
      "[[ 0  1  2  3]\n",
      " [ 4  5  6  7]\n",
      " [ 8  9 10 11]\n",
      " [12 13 14 15]]\n",
      "[ 1  5  9 13]\n"
     ]
    }
   ],
   "source": [
    "h = np.arange(16).reshape(4,4)\n",
    "print(h)\n",
    "i = h[:, 1]\n",
    "print(i)"
   ]
  },
  {
   "cell_type": "code",
   "execution_count": 18,
   "id": "960fee0f-1bbd-4bd2-b99f-6ded1825258d",
   "metadata": {},
   "outputs": [
    {
     "name": "stdout",
     "output_type": "stream",
     "text": [
      "[[0 1 2]\n",
      " [3 4 5]\n",
      " [6 7 8]]\n",
      "[0 1 2 3 4 5 6 7 8]\n"
     ]
    }
   ],
   "source": [
    "j = np.arange(9).reshape(3,3)\n",
    "print(j)\n",
    "k = j.ravel()\n",
    "print(k)"
   ]
  },
  {
   "cell_type": "code",
   "execution_count": 27,
   "id": "ea7600e5-84f2-459b-b45f-49933fafb575",
   "metadata": {},
   "outputs": [
    {
     "name": "stdout",
     "output_type": "stream",
     "text": [
      "[[-1  1  2 -1  4]\n",
      " [ 5 -1  7  8 -1]\n",
      " [10 11 -1 13 14]\n",
      " [-1 16 17 -1 19]\n",
      " [20 -1 22 23 -1]]\n"
     ]
    }
   ],
   "source": [
    "l = np.arange(25).reshape(5,5)\n",
    "mask = l % 3 == 0\n",
    "l[mask] = -1\n",
    "print(l)"
   ]
  },
  {
   "cell_type": "code",
   "execution_count": null,
   "id": "c852a414-a4e6-40ad-a99c-a265f26076a8",
   "metadata": {},
   "outputs": [],
   "source": []
  }
 ],
 "metadata": {
  "kernelspec": {
   "display_name": "Python 3 (ipykernel)",
   "language": "python",
   "name": "python3"
  },
  "language_info": {
   "codemirror_mode": {
    "name": "ipython",
    "version": 3
   },
   "file_extension": ".py",
   "mimetype": "text/x-python",
   "name": "python",
   "nbconvert_exporter": "python",
   "pygments_lexer": "ipython3",
   "version": "3.11.13"
  }
 },
 "nbformat": 4,
 "nbformat_minor": 5
}
