{
 "cells": [
  {
   "cell_type": "markdown",
   "id": "6b86c05c-6892-4796-96b9-2070903e36f2",
   "metadata": {},
   "source": [
    "Create a 1D NumPy array containing integers from 0 to 19.\n",
    "\n",
    "Create a 4×5 2D array filled with zeros, then set all elements in the second row to 1.\n",
    "\n",
    "Create a 3×3 identity matrix using a NumPy built-in function.\n",
    "\n",
    "Generate a 1D array of 50 values between 0 and 10 (inclusive) using linspace.\n",
    "\n",
    "Create a 5×5 matrix with random integers between 10 and 99.\n",
    "\n",
    "From a 1D array of numbers 0 to 29, reshape it into a 6×5 matrix, then extract the last two rows.\n",
    "\n",
    "Slice out the second column of a 4×4 matrix.\n",
    "\n",
    "Take a 3×3 matrix and flatten it into a 1D array.\n",
    "\n",
    "From a 5×5 matrix, replace all elements divisible by 3 with -1.\n",
    "\n",
    "Create two 2×3 arrays with random values and add them together elementwise.\n",
    "\n",
    "Take an array of numbers from 0 to 9 and square each element using vectorized syntax.\n",
    "\n",
    "Create a 5×5 array of random floats and clip all values to stay between 0.2 and 0.8.\n",
    "\n",
    "Create a 100-element array of random values and compute the mean, std, min, and max.\n",
    "\n",
    "Generate a 6×6 matrix of integers and compute the sum of each column and each row.\n",
    "\n",
    "Create a column vector of shape (5,1) and a row vector of shape (1,4), then use broadcasting to produce a 5×4 matrix where each entry is their product."
   ]
  },
  {
   "cell_type": "code",
   "execution_count": 1,
   "id": "2d05422a-3b72-4491-8466-4f89461faf93",
   "metadata": {},
   "outputs": [
    {
     "name": "stdout",
     "output_type": "stream",
     "text": [
      "[ 0  1  2  3  4  5  6  7  8  9 10 11 12 13 14 15 16 17 18 19]\n"
     ]
    }
   ],
   "source": [
    "import numpy as np\n",
    "\n",
    "a = np.arange(20)\n",
    "print(a)"
   ]
  },
  {
   "cell_type": "code",
   "execution_count": 2,
   "id": "eca1c557-fb75-4ab5-8e7a-940b4403b429",
   "metadata": {},
   "outputs": [
    {
     "name": "stdout",
     "output_type": "stream",
     "text": [
      "[[0. 0. 0. 0. 0.]\n",
      " [0. 0. 0. 0. 0.]\n",
      " [0. 0. 0. 0. 0.]\n",
      " [0. 0. 0. 0. 0.]]\n",
      "[[0. 0. 0. 0. 0.]\n",
      " [1. 1. 1. 1. 1.]\n",
      " [0. 0. 0. 0. 0.]\n",
      " [0. 0. 0. 0. 0.]]\n"
     ]
    }
   ],
   "source": [
    "b = np.zeros((4,5))\n",
    "print(b)\n",
    "b[1,:] = 1\n",
    "print(b)"
   ]
  },
  {
   "cell_type": "code",
   "execution_count": 3,
   "id": "9658effc-1c10-4888-a101-41a6ccd643a7",
   "metadata": {},
   "outputs": [
    {
     "name": "stdout",
     "output_type": "stream",
     "text": [
      "[[1. 0. 0.]\n",
      " [0. 1. 0.]\n",
      " [0. 0. 1.]]\n"
     ]
    }
   ],
   "source": [
    "c = np.identity(3)\n",
    "print(c)"
   ]
  },
  {
   "cell_type": "code",
   "execution_count": 4,
   "id": "6cb3cdfc-b112-4aaf-a2bc-316b93f1e75c",
   "metadata": {},
   "outputs": [
    {
     "name": "stdout",
     "output_type": "stream",
     "text": [
      "[ 0.          0.20408163  0.40816327  0.6122449   0.81632653  1.02040816\n",
      "  1.2244898   1.42857143  1.63265306  1.83673469  2.04081633  2.24489796\n",
      "  2.44897959  2.65306122  2.85714286  3.06122449  3.26530612  3.46938776\n",
      "  3.67346939  3.87755102  4.08163265  4.28571429  4.48979592  4.69387755\n",
      "  4.89795918  5.10204082  5.30612245  5.51020408  5.71428571  5.91836735\n",
      "  6.12244898  6.32653061  6.53061224  6.73469388  6.93877551  7.14285714\n",
      "  7.34693878  7.55102041  7.75510204  7.95918367  8.16326531  8.36734694\n",
      "  8.57142857  8.7755102   8.97959184  9.18367347  9.3877551   9.59183673\n",
      "  9.79591837 10.        ]\n"
     ]
    }
   ],
   "source": [
    "d = np.linspace(0, 10, 50)\n",
    "print(d)"
   ]
  },
  {
   "cell_type": "code",
   "execution_count": 5,
   "id": "8145322b-18d9-47d2-911a-830933d50880",
   "metadata": {},
   "outputs": [
    {
     "name": "stdout",
     "output_type": "stream",
     "text": [
      "[[51 59 47 56 81]\n",
      " [45 44 50 28 21]\n",
      " [47 66 17 10 12]\n",
      " [86 93 63 20 22]\n",
      " [80 14 58 76 73]]\n"
     ]
    }
   ],
   "source": [
    "rng = np.random.default_rng()\n",
    "e = rng.integers(10, 100, size=(5,5))\n",
    "print(e)"
   ]
  },
  {
   "cell_type": "code",
   "execution_count": 6,
   "id": "4c7693b0-e0b9-418d-86ea-a1d102efef39",
   "metadata": {},
   "outputs": [
    {
     "name": "stdout",
     "output_type": "stream",
     "text": [
      "[ 0  1  2  3  4  5  6  7  8  9 10 11 12 13 14 15 16 17 18 19 20 21 22 23\n",
      " 24 25 26 27 28 29]\n",
      "[[ 0  1  2  3  4]\n",
      " [ 5  6  7  8  9]\n",
      " [10 11 12 13 14]\n",
      " [15 16 17 18 19]]\n"
     ]
    }
   ],
   "source": [
    "f = np.arange(30)\n",
    "print(f)\n",
    "g = f.reshape(6,5)\n",
    "print(g[0:4])"
   ]
  },
  {
   "cell_type": "code",
   "execution_count": 7,
   "id": "f6e3f97b-790c-4f21-9ab2-24505f069393",
   "metadata": {},
   "outputs": [
    {
     "name": "stdout",
     "output_type": "stream",
     "text": [
      "[[ 0  1  2  3]\n",
      " [ 4  5  6  7]\n",
      " [ 8  9 10 11]\n",
      " [12 13 14 15]]\n",
      "[ 1  5  9 13]\n"
     ]
    }
   ],
   "source": [
    "h = np.arange(16).reshape(4,4)\n",
    "print(h)\n",
    "i = h[:, 1]\n",
    "print(i)"
   ]
  },
  {
   "cell_type": "code",
   "execution_count": 8,
   "id": "960fee0f-1bbd-4bd2-b99f-6ded1825258d",
   "metadata": {},
   "outputs": [
    {
     "name": "stdout",
     "output_type": "stream",
     "text": [
      "[[0 1 2]\n",
      " [3 4 5]\n",
      " [6 7 8]]\n",
      "[0 1 2 3 4 5 6 7 8]\n"
     ]
    }
   ],
   "source": [
    "j = np.arange(9).reshape(3,3)\n",
    "print(j)\n",
    "k = j.ravel()\n",
    "print(k)"
   ]
  },
  {
   "cell_type": "code",
   "execution_count": 9,
   "id": "ea7600e5-84f2-459b-b45f-49933fafb575",
   "metadata": {},
   "outputs": [
    {
     "name": "stdout",
     "output_type": "stream",
     "text": [
      "[[-1  1  2 -1  4]\n",
      " [ 5 -1  7  8 -1]\n",
      " [10 11 -1 13 14]\n",
      " [-1 16 17 -1 19]\n",
      " [20 -1 22 23 -1]]\n"
     ]
    }
   ],
   "source": [
    "l = np.arange(25).reshape(5,5)\n",
    "mask = l % 3 == 0\n",
    "l[mask] = -1\n",
    "print(l)"
   ]
  },
  {
   "cell_type": "code",
   "execution_count": 10,
   "id": "c852a414-a4e6-40ad-a99c-a265f26076a8",
   "metadata": {},
   "outputs": [
    {
     "name": "stdout",
     "output_type": "stream",
     "text": [
      "[[57 78 66]\n",
      " [75 78 76]]\n",
      "[[85 89 47]\n",
      " [23 21 53]]\n",
      "[[142 167 113]\n",
      " [ 98  99 129]]\n"
     ]
    }
   ],
   "source": [
    "rng = np.random.default_rng()\n",
    "m = rng.integers(99, size=(2,3))\n",
    "print(m)\n",
    "n = rng.integers(99, size=(2,3))\n",
    "print(n)\n",
    "print(m + n)"
   ]
  },
  {
   "cell_type": "code",
   "execution_count": 11,
   "id": "64242788-8d91-4275-b57a-1a487752e4aa",
   "metadata": {},
   "outputs": [
    {
     "name": "stdout",
     "output_type": "stream",
     "text": [
      "[0 1 2 3 4 5 6 7 8 9]\n",
      "[ 0  1  4  9 16 25 36 49 64 81]\n"
     ]
    }
   ],
   "source": [
    "o = np.arange(10)\n",
    "print(o)\n",
    "p = o ** 2\n",
    "print(p)"
   ]
  },
  {
   "cell_type": "code",
   "execution_count": 12,
   "id": "6299cd37-588f-4a9a-a050-5106bba1ad9d",
   "metadata": {},
   "outputs": [
    {
     "name": "stdout",
     "output_type": "stream",
     "text": [
      "[[0.2901787  0.47095131 0.53093351 0.8        0.2       ]\n",
      " [0.8        0.2839379  0.8        0.65890997 0.36345562]\n",
      " [0.32064168 0.76520664 0.7352853  0.8        0.22954005]\n",
      " [0.52899995 0.2        0.8        0.8        0.40543812]\n",
      " [0.20494941 0.2        0.8        0.2        0.2       ]]\n"
     ]
    }
   ],
   "source": [
    "rng = np.random.default_rng()\n",
    "q = rng.random((5,5))\n",
    "q_clip = np.clip(q, .2, .8)\n",
    "print(q_clip)"
   ]
  },
  {
   "cell_type": "code",
   "execution_count": 13,
   "id": "a7dd47ff-51cc-48ab-bca6-5aa109d463d6",
   "metadata": {},
   "outputs": [
    {
     "name": "stdout",
     "output_type": "stream",
     "text": [
      "[[ 6  7 14 68 46 88 96 68 18 30]\n",
      " [ 2 63  5 25 14  6 94  6 92  5]\n",
      " [66 23 71 56 23 39 92 71 15 70]\n",
      " [74 21  3 62 18 93 21  7 35 96]\n",
      " [33 79 29 48 25 47 56 34 92 46]\n",
      " [63 68  1 70 24  9 59 50 27 49]\n",
      " [41 81 46 28 20 74 37 24 65 13]\n",
      " [38 77 70 98 47 64 76  4 35 92]\n",
      " [29 22 76 60 37 88 80 17 68 64]\n",
      " [62 18 99  1 51 16 44 21 34 96]]\n",
      "46.31\n",
      "29.027812525231724\n",
      "99\n",
      "1\n"
     ]
    }
   ],
   "source": [
    "r = rng.integers(0, 100, size=(10,10))\n",
    "print(r)\n",
    "print(r.mean())\n",
    "print(r.std())\n",
    "print(r.max())\n",
    "print(r.min())"
   ]
  },
  {
   "cell_type": "code",
   "execution_count": 14,
   "id": "393acc3b-a032-4d74-872a-66381c6009f3",
   "metadata": {},
   "outputs": [
    {
     "name": "stdout",
     "output_type": "stream",
     "text": [
      "[[ 0  1  2  3  4  5]\n",
      " [ 6  7  8  9 10 11]\n",
      " [12 13 14 15 16 17]\n",
      " [18 19 20 21 22 23]\n",
      " [24 25 26 27 28 29]\n",
      " [30 31 32 33 34 35]]\n",
      "[ 90  96 102 108 114 120]\n",
      "[ 15  51  87 123 159 195]\n"
     ]
    }
   ],
   "source": [
    "s = np.arange(36).reshape(6,6)\n",
    "print(s)\n",
    "print(s.sum(axis=0))\n",
    "print(s.sum(axis=1))"
   ]
  },
  {
   "cell_type": "code",
   "execution_count": 15,
   "id": "981eaa0f-dbc5-4f17-80ca-d3c00dd52d2a",
   "metadata": {},
   "outputs": [
    {
     "name": "stdout",
     "output_type": "stream",
     "text": [
      "[[1]\n",
      " [2]\n",
      " [3]\n",
      " [4]\n",
      " [5]]\n",
      "[[1 2 3 4]]\n",
      "[[ 1  2  3  4]\n",
      " [ 2  4  6  8]\n",
      " [ 3  6  9 12]\n",
      " [ 4  8 12 16]\n",
      " [ 5 10 15 20]]\n"
     ]
    }
   ],
   "source": [
    "t = np.arange(1, 6).reshape(5,1)\n",
    "print(t)\n",
    "u = np.arange(1, 5).reshape(1,4)\n",
    "print(u)\n",
    "result = t * u\n",
    "print(result)"
   ]
  }
 ],
 "metadata": {
  "kernelspec": {
   "display_name": "Python 3 (ipykernel)",
   "language": "python",
   "name": "python3"
  },
  "language_info": {
   "codemirror_mode": {
    "name": "ipython",
    "version": 3
   },
   "file_extension": ".py",
   "mimetype": "text/x-python",
   "name": "python",
   "nbconvert_exporter": "python",
   "pygments_lexer": "ipython3",
   "version": "3.11.13"
  }
 },
 "nbformat": 4,
 "nbformat_minor": 5
}
