{
 "cells": [
  {
   "cell_type": "markdown",
   "id": "c5845f79-db55-4a08-b41d-6c3925f565f0",
   "metadata": {},
   "source": [
    "Create a 3×3 matrix with random float values between 0 and 1.\n",
    "\n",
    "Compute and print the transpose of that matrix.\n",
    "\n",
    "Multiply your original 3×3 matrix with its transpose using matrix multiplication.\n",
    "\n",
    "Compute the determinant of a new 3×3 matrix.\n",
    "\n",
    "Check if a matrix is invertible (i.e., has a non-zero determinant).\n",
    "\n",
    "Calculate the inverse of an invertible 3×3 matrix.\n",
    "\n",
    "Verify that a matrix multiplied by its inverse is (approximately) the identity matrix.\n",
    "\n",
    "Set the random seed to 123 and generate 1,000 standard normal values.\n",
    "\n",
    "Compute the mean and standard deviation of those values and compare them to the expected values for a standard normal distribution.\n",
    "\n",
    "Generate a 2D array (shape 100×5) of standard normal values and calculate the column-wise means.\n",
    "\n",
    "Generate 10,000 samples from a lognormal distribution with mean = 0.05 and sigma = 0.2.\n",
    "\n",
    "Plot a histogram of the lognormal samples using 50 bins.\n",
    "\n",
    "Use the Black-Scholes formula to simulate one stock price at maturity using: \n",
    "- S = 100, K = 105, r = 0.05, T = 1, theta = .2\n",
    "\n",
    "Simulate 10,000 final stock prices using the formula: \n",
    "- St = So * exp((r - .5 * theta^2) * T + theta * sqrt(T) * Z) where Z ~ N(0,1)\n",
    "\n",
    "Plot a histogram of the simulated prices and estimate the probability the stock ends up above the strike price (e.g., 105)."
   ]
  },
  {
   "cell_type": "code",
   "execution_count": null,
   "id": "2c89abb4-9886-451c-b6a7-fec739ca1ecf",
   "metadata": {},
   "outputs": [],
   "source": []
  }
 ],
 "metadata": {
  "kernelspec": {
   "display_name": "Python 3 (ipykernel)",
   "language": "python",
   "name": "python3"
  },
  "language_info": {
   "codemirror_mode": {
    "name": "ipython",
    "version": 3
   },
   "file_extension": ".py",
   "mimetype": "text/x-python",
   "name": "python",
   "nbconvert_exporter": "python",
   "pygments_lexer": "ipython3",
   "version": "3.11.13"
  }
 },
 "nbformat": 4,
 "nbformat_minor": 5
}
