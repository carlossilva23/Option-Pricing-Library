{
 "cells": [
  {
   "cell_type": "markdown",
   "id": "c5845f79-db55-4a08-b41d-6c3925f565f0",
   "metadata": {},
   "source": [
    "Create a 3×3 matrix with random float values between 0 and 1.\n",
    "\n",
    "Compute and print the transpose of that matrix.\n",
    "\n",
    "Multiply your original 3×3 matrix with its transpose using matrix multiplication.\n",
    "\n",
    "Compute the determinant of a new 3×3 matrix.\n",
    "\n",
    "Check if a matrix is invertible (i.e., has a non-zero determinant).\n",
    "\n",
    "Calculate the inverse of an invertible 3×3 matrix.\n",
    "\n",
    "Verify that a matrix multiplied by its inverse is (approximately) the identity matrix.\n",
    "\n",
    "Set the random seed to 123 and generate 1,000 standard normal values.\n",
    "\n",
    "Compute the mean and standard deviation of those values and compare them to the expected values for a standard normal distribution.\n",
    "\n",
    "Generate a 2D array (shape 100×5) of standard normal values and calculate the column-wise means.\n",
    "\n",
    "Generate 10,000 samples from a lognormal distribution with mean = 0.05 and sigma = 0.2.\n",
    "\n",
    "Plot a histogram of the lognormal samples using 50 bins.\n",
    "\n",
    "Use the Black-Scholes formula to simulate one stock price at maturity using: \n",
    "- S = 100, K = 105, r = 0.05, T = 1, theta = .2\n",
    "\n",
    "Simulate 10,000 final stock prices using the formula: \n",
    "- St = So * exp((r - .5 * theta^2) * T + theta * sqrt(T) * Z) where Z ~ N(0,1)\n",
    "\n",
    "Plot a histogram of the simulated prices and estimate the probability the stock ends up above the strike price (e.g., 105)."
   ]
  },
  {
   "cell_type": "code",
   "execution_count": 4,
   "id": "2c89abb4-9886-451c-b6a7-fec739ca1ecf",
   "metadata": {},
   "outputs": [
    {
     "name": "stdout",
     "output_type": "stream",
     "text": [
      "[[0.69546545 0.69633653 0.45662763]\n",
      " [0.8510921  0.62608719 0.59387667]\n",
      " [0.04460427 0.74158034 0.98398028]]\n"
     ]
    }
   ],
   "source": [
    "import numpy as np\n",
    "\n",
    "rng = np.random.default_rng()\n",
    "a = rng.random((3,3))\n",
    "print(a)"
   ]
  },
  {
   "cell_type": "code",
   "execution_count": 5,
   "id": "53e0b57e-8a97-4c2c-9e22-b307331e61c0",
   "metadata": {},
   "outputs": [
    {
     "name": "stdout",
     "output_type": "stream",
     "text": [
      "[[0.69546545 0.8510921  0.04460427]\n",
      " [0.69633653 0.62608719 0.74158034]\n",
      " [0.45662763 0.59387667 0.98398028]]\n"
     ]
    }
   ],
   "source": [
    "b = a.T\n",
    "print(b)"
   ]
  },
  {
   "cell_type": "code",
   "execution_count": 7,
   "id": "b89d2776-b710-41f1-8f8f-26688a52a44b",
   "metadata": {},
   "outputs": [
    {
     "name": "stdout",
     "output_type": "stream",
     "text": [
      "[[1.17706555 1.29905303 0.9967228 ]\n",
      " [1.29905303 1.46903243 1.08661923]\n",
      " [0.9967228  1.08661923 1.52014814]]\n"
     ]
    }
   ],
   "source": [
    "c = a @ b\n",
    "print(c)"
   ]
  },
  {
   "cell_type": "code",
   "execution_count": 8,
   "id": "456465cc-0591-49dc-a71c-6e6b897ad223",
   "metadata": {},
   "outputs": [
    {
     "name": "stdout",
     "output_type": "stream",
     "text": [
      "0.027921800068687278\n"
     ]
    }
   ],
   "source": [
    "d = np.linalg.det(c)\n",
    "print(d)"
   ]
  },
  {
   "cell_type": "code",
   "execution_count": 12,
   "id": "2bb33eb9-0043-4bc1-9627-44bd538504ed",
   "metadata": {},
   "outputs": [
    {
     "name": "stdout",
     "output_type": "stream",
     "text": [
      "True\n"
     ]
    }
   ],
   "source": [
    "if not np.isclose(d, 0):\n",
    "    print(True)\n",
    "else:\n",
    "    print(False)"
   ]
  },
  {
   "cell_type": "code",
   "execution_count": 13,
   "id": "d97020ea-008d-4012-8a24-1781997be8e1",
   "metadata": {},
   "outputs": [
    {
     "name": "stdout",
     "output_type": "stream",
     "text": [
      "[[ 37.69117908 -31.93543719  -1.88534076]\n",
      " [-31.93543719  28.5030936    0.56492432]\n",
      " [ -1.88534076   0.56492432   1.49018666]]\n"
     ]
    }
   ],
   "source": [
    "e = np.linalg.inv(c)\n",
    "print(e)"
   ]
  },
  {
   "cell_type": "code",
   "execution_count": 19,
   "id": "b06afe93-41c9-40e5-bb2a-06620bcba9da",
   "metadata": {},
   "outputs": [
    {
     "name": "stdout",
     "output_type": "stream",
     "text": [
      "[[ 1.00000000e+00 -3.44169138e-15  2.22044605e-16]\n",
      " [-1.02140518e-14  1.00000000e+00  2.22044605e-16]\n",
      " [ 0.00000000e+00 -3.55271368e-15  1.00000000e+00]]\n"
     ]
    }
   ],
   "source": [
    "f = c @ e\n",
    "print(f)"
   ]
  },
  {
   "cell_type": "code",
   "execution_count": null,
   "id": "43c18cb8-d805-4415-8814-8565d642389a",
   "metadata": {},
   "outputs": [],
   "source": []
  }
 ],
 "metadata": {
  "kernelspec": {
   "display_name": "Python 3 (ipykernel)",
   "language": "python",
   "name": "python3"
  },
  "language_info": {
   "codemirror_mode": {
    "name": "ipython",
    "version": 3
   },
   "file_extension": ".py",
   "mimetype": "text/x-python",
   "name": "python",
   "nbconvert_exporter": "python",
   "pygments_lexer": "ipython3",
   "version": "3.11.13"
  }
 },
 "nbformat": 4,
 "nbformat_minor": 5
}
