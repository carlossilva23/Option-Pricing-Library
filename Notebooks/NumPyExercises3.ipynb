{
 "cells": [
  {
   "cell_type": "markdown",
   "id": "627ebb16-a7a5-4040-93dd-83cd4e026a50",
   "metadata": {},
   "source": [
    "1. Generate 5,000 simulated stock prices at maturity using a lognormal model with parameters:\n",
    "   S_0 = 50, r = .03, sigma = .25, T = 2 years\n",
    "   \n",
    "2. Calculate the payoff of a European call option with strike price K=55 for your simulated stock prices.\n",
    "\n",
    "3. Calculate the payoff of a European put option with strike price K=45 for the same simulations.\n",
    "\n",
    "4. Compute the discounted expected payoff (estimate the option price) using a risk-free rate r=0.03 and maturity T=2.\n",
    "\n",
    "5. Simulate a vector of correlated stock price paths for two stocks with correlation 0.7, both starting at 100, with volatilities 0.2 and 0.3, over 1 year.\n",
    "\n",
    "6. Compute the covariance matrix of the two simulated stock returns.\n",
    "\n",
    "7. For a basket option on the average of the two stocks above, simulate the basket price at maturity and compute the payoff for a strike price of 105.\n",
    "\n",
    "8. Generate a 3D NumPy array representing 1,000 simulated paths of 252 trading days (daily returns), for a stock with daily volatility σ=0.01.\n",
    "\n",
    "9. Calculate the running maximum price for each simulated path above (use cumulative maximum).\n",
    "\n",
    "10. Estimate the probability that the stock price hits a barrier level (e.g., 120) at least once during the 252-day simulation for all paths."
   ]
  },
  {
   "cell_type": "code",
   "execution_count": null,
   "id": "b7404ef8-2381-466e-9606-c53fe2d131d9",
   "metadata": {},
   "outputs": [],
   "source": [
    "import numpy as np\n",
    "rng = np.random.default_rng()\n",
    "log = rng.lognormal(5,000)\n",
    "exponent = (.03 - .5 * (.25**2)) * 2 + .25 * np.sqrt(2) * log)\n",
    "stockPrices = 50 * np.exp("
   ]
  }
 ],
 "metadata": {
  "kernelspec": {
   "display_name": "Python 3 (ipykernel)",
   "language": "python",
   "name": "python3"
  },
  "language_info": {
   "codemirror_mode": {
    "name": "ipython",
    "version": 3
   },
   "file_extension": ".py",
   "mimetype": "text/x-python",
   "name": "python",
   "nbconvert_exporter": "python",
   "pygments_lexer": "ipython3",
   "version": "3.11.13"
  }
 },
 "nbformat": 4,
 "nbformat_minor": 5
}
