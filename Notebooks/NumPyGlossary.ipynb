{
 "cells": [
  {
   "cell_type": "markdown",
   "id": "25bf44cf-c540-4973-ba7d-8e6d68a7a139",
   "metadata": {},
   "source": [
    "NumPy Glossary "
   ]
  },
  {
   "cell_type": "markdown",
   "id": "b278c503-7b94-4a75-b490-542976890f50",
   "metadata": {},
   "source": []
  }
 ],
 "metadata": {
  "kernelspec": {
   "display_name": "Python 3 (ipykernel)",
   "language": "python",
   "name": "python3"
  },
  "language_info": {
   "codemirror_mode": {
    "name": "ipython",
    "version": 3
   },
   "file_extension": ".py",
   "mimetype": "text/x-python",
   "name": "python",
   "nbconvert_exporter": "python",
   "pygments_lexer": "ipython3",
   "version": "3.11.13"
  }
 },
 "nbformat": 4,
 "nbformat_minor": 5
}
