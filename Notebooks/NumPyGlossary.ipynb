{
 "cells": [
  {
   "cell_type": "markdown",
   "id": "25bf44cf-c540-4973-ba7d-8e6d68a7a139",
   "metadata": {},
   "source": [
    "NumPy Glossary "
   ]
  },
  {
   "cell_type": "markdown",
   "id": "b278c503-7b94-4a75-b490-542976890f50",
   "metadata": {},
   "source": [
    "ndarray: numpy's array class; also known as array \n",
    "- np.array() is how to initiliaze an object to the ndarray class\n",
    "- ndarray is not a function "
   ]
  },
  {
   "cell_type": "code",
   "execution_count": 1,
   "id": "6f5588f1-ecd8-4bb2-8149-895d511d91ca",
   "metadata": {},
   "outputs": [
    {
     "name": "stdout",
     "output_type": "stream",
     "text": [
      "<class 'numpy.ndarray'>\n"
     ]
    }
   ],
   "source": [
    "import numpy as np\n",
    "a = np.array([1, 2, 3])\n",
    "print(type(a))"
   ]
  },
  {
   "cell_type": "markdown",
   "id": "a10a7e03-d742-421d-95d8-4a600980ba0c",
   "metadata": {},
   "source": [
    "np.array(): initiliaztion of array\n",
    "- takes a specific array and dtype as parameters\n",
    "- have to use ( and [; array([1, 2, 3])\n",
    "- dtype can be specified at creation time "
   ]
  },
  {
   "cell_type": "code",
   "execution_count": 2,
   "id": "927fad53-ae7b-4fd7-9fb6-23412e6a8da0",
   "metadata": {},
   "outputs": [
    {
     "name": "stdout",
     "output_type": "stream",
     "text": [
      "[2. 4. 6.]\n"
     ]
    }
   ],
   "source": [
    "a = np.array([2, 4, 6], dtype=np.float64)\n",
    "print(a)"
   ]
  },
  {
   "cell_type": "markdown",
   "id": "11f14957-a01d-4326-9645-f409d3193b5d",
   "metadata": {},
   "source": [
    "np.zeros(): initializes an array filled with zeros\n",
    "- takes the shape of an array as parameter\n",
    "- does not modify a list, only creates a new one"
   ]
  },
  {
   "cell_type": "code",
   "execution_count": 3,
   "id": "9b0d64d5-437e-4d4b-a0b7-aaa4bcbb9e4d",
   "metadata": {},
   "outputs": [
    {
     "name": "stdout",
     "output_type": "stream",
     "text": [
      "[[0. 0. 0. 0.]\n",
      " [0. 0. 0. 0.]\n",
      " [0. 0. 0. 0.]]\n"
     ]
    }
   ],
   "source": [
    "a = np.zeros((3,4))\n",
    "print(a)"
   ]
  },
  {
   "cell_type": "markdown",
   "id": "f3155610-b027-48f0-bd0a-0cf324864e91",
   "metadata": {},
   "source": [
    "np.ones(): initializes an array filled with ones\n",
    "- takes an array shape as parameter\n",
    "- does not modify a list, only creates new one"
   ]
  },
  {
   "cell_type": "code",
   "execution_count": 4,
   "id": "674edbcc-ab7d-4b21-b134-c607f192fdd5",
   "metadata": {},
   "outputs": [
    {
     "name": "stdout",
     "output_type": "stream",
     "text": [
      "[[1. 1.]\n",
      " [1. 1.]]\n"
     ]
    }
   ],
   "source": [
    "a = np.ones((2, 2))\n",
    "print(a)"
   ]
  },
  {
   "cell_type": "markdown",
   "id": "357ed013-2e5f-43f8-ac34-7528f35b1c42",
   "metadata": {},
   "source": [
    "np.empty(): initializes an array filled with random values from memory \n",
    "- takes array shape as parameter\n",
    "- completely random float64 values, dtype can be changed"
   ]
  },
  {
   "cell_type": "code",
   "execution_count": 5,
   "id": "bf3f2fdf-6676-44ac-b8b2-05b4a27e1cf1",
   "metadata": {},
   "outputs": [
    {
     "name": "stdout",
     "output_type": "stream",
     "text": [
      "[[6.23042070e-307 4.67296746e-307 1.69121096e-306 1.60218491e-306]\n",
      " [8.34441742e-308 1.78022342e-306 6.23058028e-307 9.79107872e-307]\n",
      " [6.89807188e-307 7.56594375e-307 6.23060065e-307 1.78021527e-306]\n",
      " [8.34454050e-308 1.11261027e-306 1.15706896e-306 1.33512173e-306]]\n"
     ]
    }
   ],
   "source": [
    "a = np.empty((4,4))\n",
    "print(a)"
   ]
  },
  {
   "cell_type": "markdown",
   "id": "f639abc1-e5e9-4abf-9dc2-0bf7af830fbb",
   "metadata": {},
   "source": [
    "np.arange(): same as the range function in python\n",
    "- takes, start, stop, step, dtype as parameters\n",
    "- arange(stop); one parameter\n",
    "- arange(start, stop) two parameters\n",
    "- creates a new array "
   ]
  },
  {
   "cell_type": "code",
   "execution_count": 6,
   "id": "8908d74b-ea24-40ff-b27f-e5aeb6bd27c6",
   "metadata": {},
   "outputs": [
    {
     "name": "stdout",
     "output_type": "stream",
     "text": [
      "[  0  10  20  30  40  50  60  70  80  90 100]\n"
     ]
    }
   ],
   "source": [
    "a = np.arange(0, 101, 10) \n",
    "print(a)"
   ]
  },
  {
   "cell_type": "markdown",
   "id": "511b83e7-92c0-4840-a559-0f9602f4b0d2",
   "metadata": {},
   "source": [
    "np.linspace(): works similar to arange but specificaly with floats \n",
    "- takes start, stop, num, endpoint, retstep\n",
    "- returns an array with num values between the start and stop (inclusive)\n",
    "- if endpoint is false, stop is not included in interval\n",
    "- retstep prints out the step used in interval\n",
    "- all elements are evenly spaced "
   ]
  },
  {
   "cell_type": "code",
   "execution_count": 7,
   "id": "c76619c4-ab7b-4d23-85b1-bc7235b4b9af",
   "metadata": {},
   "outputs": [
    {
     "name": "stdout",
     "output_type": "stream",
     "text": [
      "(array([0., 1., 2., 3., 4., 5., 6., 7., 8., 9.]), np.float64(1.0))\n"
     ]
    }
   ],
   "source": [
    "a = np.linspace(0, 10, 10, endpoint=False, retstep=True)\n",
    "print(a)"
   ]
  },
  {
   "cell_type": "markdown",
   "id": "5a5fe591-6c27-4795-a206-8793fbfaf787",
   "metadata": {},
   "source": [
    "np.reshape(): modifies an array to be reshaped with specific axes\n",
    "- takes array and/or new shape as parameters\n",
    "- can be used alongside arange in order to shape a newly created array\n",
    "- can also be used on an exisiting array in order to reshape it\n",
    "- can take a '-1' as parameter for an axis that is unknown/unspecified "
   ]
  },
  {
   "cell_type": "code",
   "execution_count": 8,
   "id": "acde3e73-77b8-483a-8873-3c2925f1b967",
   "metadata": {},
   "outputs": [
    {
     "name": "stdout",
     "output_type": "stream",
     "text": [
      "[[ 0 10]\n",
      " [20 30]\n",
      " [40 50]\n",
      " [60 70]\n",
      " [80 90]]\n",
      "[[ 1  2  3  4  5]\n",
      " [ 6  7  8  9 10]]\n"
     ]
    }
   ],
   "source": [
    "a = np.arange(0, 100, 10).reshape(5, -1)\n",
    "b = np.array([[1, 2, 3, 4, 5], [6, 7, 8, 9, 10]])\n",
    "print(a)\n",
    "np.reshape(b, (5, 2))\n",
    "print(b)"
   ]
  },
  {
   "cell_type": "markdown",
   "id": "ff768f7a-fc8f-4b07-b662-706deb389d19",
   "metadata": {},
   "source": [
    ".dot(): applies matrix product \n",
    "- called on an array and takes an array as a parameter\n",
    "- also can be denoted as @, arrayA @ arrayB"
   ]
  },
  {
   "cell_type": "code",
   "execution_count": 9,
   "id": "99e40995-8748-4bee-a126-6da3e2406b44",
   "metadata": {},
   "outputs": [
    {
     "name": "stdout",
     "output_type": "stream",
     "text": [
      "[[  6  12  18  24]\n",
      " [ 22  44  66  88]\n",
      " [ 38  76 114 152]\n",
      " [ 54 108 162 216]]\n"
     ]
    }
   ],
   "source": [
    "a = np.arange(16).reshape(4,4)\n",
    "b = np.array([[1, 2, 3, 4], [1, 2, 3, 4], [1, 2, 3, 4], [1, 2, 3, 4]])\n",
    "print(a.dot(b))"
   ]
  },
  {
   "cell_type": "markdown",
   "id": "055e1dd6-12d4-42fc-8d31-0898313379fd",
   "metadata": {},
   "source": [
    "numpy.random: legacy module in NumPy that provides tools for generating random numbers\n",
    "- not a function that you call or use\n",
    "- allows to use other random functions "
   ]
  },
  {
   "cell_type": "markdown",
   "id": "992fe846-d99d-493b-bb8a-e793f2bddf39",
   "metadata": {},
   "source": [
    "np.random.default_rng(): creates instance of default random number generator; modern \n",
    "- takes seed as parameter (optional)\n",
    "- usually saved as a variable "
   ]
  },
  {
   "cell_type": "markdown",
   "id": "8223b493-1265-4fee-b2de-c89942ec6bd1",
   "metadata": {},
   "source": [
    "np.rng.random(): creates an array filled with random numbers based on generator\n",
    "- takes size as a parameter\n",
    "- default floats between 0 and 1"
   ]
  },
  {
   "cell_type": "markdown",
   "id": "009ac463-9b43-4bff-8b65-bd0d39dbbc7f",
   "metadata": {},
   "source": [
    "np.rng.integers(): creates an array filled with random integers \n",
    "- takes low, high, size, endpoint as parameters"
   ]
  },
  {
   "cell_type": "markdown",
   "id": "57074133-b48b-4ce2-b5b7-7376545f4c07",
   "metadata": {},
   "source": [
    "np.rng.standard_normal(): draws samples from a standard normal distribution, (mean=0, stdev=1)\n",
    "- takes size as parameter (how many samples)"
   ]
  },
  {
   "cell_type": "code",
   "execution_count": 10,
   "id": "c8296922-2b3d-47b8-8c59-9214a3a8f77e",
   "metadata": {
    "scrolled": true
   },
   "outputs": [
    {
     "name": "stdout",
     "output_type": "stream",
     "text": [
      "[[0.26161213 0.29849114]\n",
      " [0.81422574 0.09191594]]\n",
      "[[ 34  61  82  73 100]\n",
      " [ 19  89   6  56  28]\n",
      " [ 21  66  31  57  27]\n",
      " [ 16  75  44  68  67]\n",
      " [ 95  43  22  64  94]]\n",
      "[-0.6071857   0.12682785 -0.89227404  0.84146497  0.18803509  0.33057101\n",
      "  0.41050391 -1.0107575   0.783181    2.05670282]\n"
     ]
    }
   ],
   "source": [
    "rng = np.random.default_rng(2)\n",
    "a = rng.random((2, 2))\n",
    "b = rng.integers(1, 100, (5,5), endpoint=True)\n",
    "print(a)\n",
    "print(b)\n",
    "\n",
    "c = rng.standard_normal(10)\n",
    "print(c)"
   ]
  },
  {
   "cell_type": "markdown",
   "id": "bc1b9057-958e-477d-a274-0812502e4e00",
   "metadata": {},
   "source": [
    ".ravel(): returns a falttened array (1-D)\n",
    "- called on an array\n",
    "- does not change the original list "
   ]
  },
  {
   "cell_type": "code",
   "execution_count": 11,
   "id": "954f234f-1958-4e5a-9a4e-4ce3a26cffa9",
   "metadata": {},
   "outputs": [
    {
     "name": "stdout",
     "output_type": "stream",
     "text": [
      "[[ 0  1  2  3]\n",
      " [ 4  5  6  7]\n",
      " [ 8  9 10 11]\n",
      " [12 13 14 15]]\n",
      "[ 0  1  2  3  4  5  6  7  8  9 10 11 12 13 14 15]\n"
     ]
    }
   ],
   "source": [
    "a = np.arange(16).reshape(4,4)\n",
    "print(a)\n",
    "print(a.ravel())"
   ]
  },
  {
   "cell_type": "markdown",
   "id": "0ecc30f5-50d2-4ba5-9d1a-62e50057d74b",
   "metadata": {},
   "source": [
    ".T: returns a tranposal of an array \n",
    "- not a function but a method in ndarray class \n",
    "- called on an array\n",
    "- does not change the original list "
   ]
  },
  {
   "cell_type": "code",
   "execution_count": 12,
   "id": "603c98d7-0c2a-4b5a-801c-b3160c2c9703",
   "metadata": {},
   "outputs": [
    {
     "name": "stdout",
     "output_type": "stream",
     "text": [
      "[[1 2 3 4 5]\n",
      " [1 2 3 4 5]]\n",
      "[[1 1]\n",
      " [2 2]\n",
      " [3 3]\n",
      " [4 4]\n",
      " [5 5]]\n"
     ]
    }
   ],
   "source": [
    "a = np.array([[1, 2, 3, 4, 5], [1, 2, 3, 4, 5]])\n",
    "print(a)\n",
    "b = a.T\n",
    "print(b)"
   ]
  },
  {
   "cell_type": "markdown",
   "id": "db6ed650-994a-4dc2-bdeb-a63d9e93c3dd",
   "metadata": {},
   "source": [
    ".resize(): method modifies the array itself versus returning a modified shape\n",
    "- called on an array "
   ]
  },
  {
   "cell_type": "code",
   "execution_count": 13,
   "id": "5c171fcc-5d7b-4a34-994d-81e2d52abd81",
   "metadata": {},
   "outputs": [
    {
     "name": "stdout",
     "output_type": "stream",
     "text": [
      "[[ 0  1  2  3]\n",
      " [ 4  5  6  7]\n",
      " [ 8  9 10 11]\n",
      " [12 13 14 15]]\n",
      "[[ 0  1  2  3  4  5  6  7]\n",
      " [ 8  9 10 11 12 13 14 15]]\n"
     ]
    }
   ],
   "source": [
    "a = np.arange(16).reshape(4,4)\n",
    "print(a)\n",
    "a.resize(2, 8)\n",
    "print(a)"
   ]
  },
  {
   "cell_type": "markdown",
   "id": "7cf05951-e593-48cc-b405-bd5014be54d1",
   "metadata": {},
   "source": [
    "np.vstack(): vertically stacks multiple arrays \n",
    "- takes arrays as parameters\n",
    "- creates new array\n",
    "- all arrays must have the same number of columns "
   ]
  },
  {
   "cell_type": "code",
   "execution_count": 14,
   "id": "230a77fd-2c50-4741-99c9-63f2a606d2dc",
   "metadata": {},
   "outputs": [
    {
     "name": "stdout",
     "output_type": "stream",
     "text": [
      "[[1 2 3 4]\n",
      " [1 2 3 4]\n",
      " [5 6 7 8]]\n"
     ]
    }
   ],
   "source": [
    "a = np.array([1, 2, 3, 4])\n",
    "b = np.array([[1, 2, 3, 4], [5, 6, 7, 8]])\n",
    "c = np.vstack((a, b))\n",
    "print(c)"
   ]
  },
  {
   "cell_type": "markdown",
   "id": "4d7efd10-7cdf-4d5b-a539-1a8dc2a84608",
   "metadata": {},
   "source": [
    "np.hstack(): horizontally stacks multiple arrays \n",
    "- takes arrays as parameters\n",
    "- creates new array\n",
    "- all arrays must have the same number of rows "
   ]
  },
  {
   "cell_type": "code",
   "execution_count": 15,
   "id": "a0faf6b2-88bb-430b-bd79-6c5c95dc2c93",
   "metadata": {},
   "outputs": [
    {
     "name": "stdout",
     "output_type": "stream",
     "text": [
      "[[1 2 3 1 2 3 4]\n",
      " [4 5 6 5 6 7 8]]\n"
     ]
    }
   ],
   "source": [
    "a = np.array([[1, 2, 3], [4, 5, 6]])\n",
    "b = np.array([[1, 2, 3, 4], [5, 6, 7, 8]])\n",
    "c = np.hstack((a, b))\n",
    "print(c)"
   ]
  },
  {
   "cell_type": "markdown",
   "id": "57ed893f-288f-45dc-ac74-136570233e53",
   "metadata": {},
   "source": [
    "np.column_stack(): takes 1-D arrays and stacks them into columns in a 2-D array \n",
    "- takes arrays as parameters\n",
    "- works best with 1-D to 2-D\n",
    "- all arrays must have the same amount of elements; number of rows "
   ]
  },
  {
   "cell_type": "code",
   "execution_count": 16,
   "id": "b08c969a-051c-4606-8d94-ca79435d560b",
   "metadata": {},
   "outputs": [
    {
     "name": "stdout",
     "output_type": "stream",
     "text": [
      "[1 2 3 4 5 6]\n",
      "[[1 4]\n",
      " [2 5]\n",
      " [3 6]]\n"
     ]
    }
   ],
   "source": [
    "a = np.array([1, 2, 3])\n",
    "b = np.array([4, 5, 6])\n",
    "c = np.hstack((a, b,))\n",
    "d = np.column_stack((a, b))\n",
    "print(c)\n",
    "print(d)"
   ]
  },
  {
   "cell_type": "markdown",
   "id": "1ed99b08-666d-40ba-9cd6-aab7a37edbb3",
   "metadata": {},
   "source": [
    "np.concatenate(): more general way of combining arrays, using specified axis \n",
    "- takes arrays and axis as parameter"
   ]
  },
  {
   "cell_type": "code",
   "execution_count": 17,
   "id": "7d96b488-80fd-4809-b709-aeb9131ad12b",
   "metadata": {},
   "outputs": [
    {
     "name": "stdout",
     "output_type": "stream",
     "text": [
      "[[ 0  1  2  3  4  5  6  7  0  1  2  3  4  5  6  7  8  9 10 11]\n",
      " [ 8  9 10 11 12 13 14 15 12 13 14 15 16 17 18 19 20 21 22 23]]\n"
     ]
    }
   ],
   "source": [
    "a = np.arange(16).reshape(2, 8)\n",
    "b = np.arange(24).reshape(2,12)\n",
    "c = np.concatenate((a, b), axis=1)\n",
    "print(c)"
   ]
  },
  {
   "cell_type": "markdown",
   "id": "43026c4d-c1d4-49ff-9b14-894a189d81b1",
   "metadata": {},
   "source": [
    "np.r_[]: a shorthand syntax way of stacking and creating arrays horizontally \n",
    "- takes arrays, indices and slicing as parameters\n",
    "- combines all\n",
    "- sugar syntax"
   ]
  },
  {
   "cell_type": "code",
   "execution_count": 18,
   "id": "5eb616f4-9ad4-4cf2-a6b3-4dac99e2d604",
   "metadata": {},
   "outputs": [
    {
     "name": "stdout",
     "output_type": "stream",
     "text": [
      "[ 0  1  2  3  7  9 11 12 13 14 15 16 17 18 24 25 26]\n"
     ]
    }
   ],
   "source": [
    "a = np.r_[0:4, 7, 9, 11:19, [24, 25, 26]]\n",
    "print(a)"
   ]
  },
  {
   "cell_type": "markdown",
   "id": "e0da9739-3fc6-4fcb-bcb4-f10c017dfa1b",
   "metadata": {},
   "source": [
    "np.c_[]: a shorthand syntax way of combining arrays and elements vertically\n",
    "- takes arrays, indices, slicing as parameters\n",
    "- combines all\n",
    "- sugar syntax "
   ]
  },
  {
   "cell_type": "code",
   "execution_count": 19,
   "id": "860987e8-ffe1-4d7a-b39c-f4aa3da7efd0",
   "metadata": {},
   "outputs": [
    {
     "name": "stdout",
     "output_type": "stream",
     "text": [
      "[[ 1  4  9 10 11]\n",
      " [ 2  5 12 16 20]\n",
      " [ 3  6 24 25 26]]\n"
     ]
    }
   ],
   "source": [
    "a = np.c_[[1, 2, 3], 4:7, [[9, 10, 11], [12, 16, 20], [24, 25, 26]]]\n",
    "print(a)"
   ]
  },
  {
   "cell_type": "markdown",
   "id": "73d241b9-811d-436f-ad2c-6841f8cce24b",
   "metadata": {},
   "source": [
    "np.hsplit(): splits an array along its horizontal axis\n",
    "- takes array and number of indices (slices) as parameters\n",
    "- indices can be specific; kind of like slicing\n",
    "- requires an even split between pieces (equal amount of rows) "
   ]
  },
  {
   "cell_type": "code",
   "execution_count": 20,
   "id": "fa2fb165-5d16-4e05-92a5-b9bf9a050aed",
   "metadata": {},
   "outputs": [
    {
     "name": "stdout",
     "output_type": "stream",
     "text": [
      "[[ 0  1  2  3]\n",
      " [ 4  5  6  7]\n",
      " [ 8  9 10 11]\n",
      " [12 13 14 15]]\n",
      "[array([[ 0],\n",
      "       [ 4],\n",
      "       [ 8],\n",
      "       [12]]), array([[ 1,  2],\n",
      "       [ 5,  6],\n",
      "       [ 9, 10],\n",
      "       [13, 14]]), array([[ 3],\n",
      "       [ 7],\n",
      "       [11],\n",
      "       [15]])]\n"
     ]
    }
   ],
   "source": [
    "a = np.arange(16).reshape(4,4)\n",
    "print(a)\n",
    "b = np.hsplit(a, [1, 3])\n",
    "print(b)"
   ]
  },
  {
   "cell_type": "markdown",
   "id": "675df625-9fea-4815-8953-4dab44d31944",
   "metadata": {},
   "source": [
    "np.vsplit(): splits an array along its vertical axis \n",
    "- takes array and numbers of indices (slices) as parameters\n",
    "- indices can be specific; kind of slicing\n",
    "- requires an even split between pieces (equal amount of columns) "
   ]
  },
  {
   "cell_type": "code",
   "execution_count": 21,
   "id": "e2c9d15a-c412-4dec-9a81-2810e819026c",
   "metadata": {},
   "outputs": [
    {
     "name": "stdout",
     "output_type": "stream",
     "text": [
      "[[ 0  1  2  3  4]\n",
      " [ 5  6  7  8  9]\n",
      " [10 11 12 13 14]\n",
      " [15 16 17 18 19]\n",
      " [20 21 22 23 24]]\n",
      "[array([[0, 1, 2, 3, 4]]), array([[5, 6, 7, 8, 9]]), array([[10, 11, 12, 13, 14]]), array([[15, 16, 17, 18, 19]]), array([[20, 21, 22, 23, 24]])]\n"
     ]
    }
   ],
   "source": [
    "a = np.arange(25).reshape(5, 5)\n",
    "print(a)\n",
    "b = np.vsplit(a, 5)\n",
    "print(b)"
   ]
  },
  {
   "cell_type": "markdown",
   "id": "2afa0dab-4d3a-47a8-b086-09311bf5d7ee",
   "metadata": {},
   "source": [
    "np.array_split(): splits arrays in specified axis \n",
    "- takes array, number of slices and axis as parameters\n",
    "- does not need to split into equal parts \n",
    "- more flexible than hsplit and vsplit"
   ]
  },
  {
   "cell_type": "code",
   "execution_count": 22,
   "id": "5dce98f7-8012-44c5-a695-e826a5c18997",
   "metadata": {},
   "outputs": [
    {
     "name": "stdout",
     "output_type": "stream",
     "text": [
      "[array([[0, 1, 2, 3],\n",
      "       [4, 5, 6, 7]]), array([[ 8,  9, 10, 11],\n",
      "       [12, 13, 14, 15]]), array([[16, 17, 18, 19]]), array([[20, 21, 22, 23]])]\n"
     ]
    }
   ],
   "source": [
    "a = np.arange(24).reshape(6, 4)\n",
    "b = np.array_split(a, 4, axis=0)\n",
    "print(b)"
   ]
  },
  {
   "cell_type": "markdown",
   "id": "ab3f6586-e72e-4e53-8bd2-49906c31c2b0",
   "metadata": {},
   "source": [
    ".view(): creates a new array object that looks at the same data \n",
    "- takes dtype as parameter\n",
    "- kind of like a pointer\n",
    "- b = a.view(); b is a new array object; but b and a share the same underlying data\n",
    "- changing the contents of one affects the other\n",
    "- changing the shape/structure of one does not affect the other  "
   ]
  },
  {
   "cell_type": "code",
   "execution_count": 23,
   "id": "6743e089-5b0d-4fce-9ccc-0b373ca88088",
   "metadata": {},
   "outputs": [
    {
     "name": "stdout",
     "output_type": "stream",
     "text": [
      "[0 1 2 3]\n",
      "False\n",
      "[99  1  2  3]\n"
     ]
    }
   ],
   "source": [
    "a = np.arange(4)\n",
    "c = a.view()\n",
    "print(a)\n",
    "print(c is a)\n",
    "c[0] = 99\n",
    "print(a)"
   ]
  },
  {
   "cell_type": "markdown",
   "id": "dc56fadb-d702-44c7-92b0-79db01064542",
   "metadata": {},
   "source": [
    ".copy(): makes a complete copy of the array and its data \n",
    "- new array object with new data is created\n",
    "- arrays will not be affected by each other "
   ]
  },
  {
   "cell_type": "code",
   "execution_count": 24,
   "id": "9ee9c0f0-ab55-480e-8e59-da08530b1367",
   "metadata": {},
   "outputs": [
    {
     "name": "stdout",
     "output_type": "stream",
     "text": [
      "[0 1 2 3 4 5]\n",
      "[100   1   2   3   4   5]\n"
     ]
    }
   ],
   "source": [
    "a = np.arange(6)\n",
    "b = a.copy()\n",
    "b[0] = 100\n",
    "print(a)\n",
    "print(b)"
   ]
  },
  {
   "cell_type": "code",
   "execution_count": null,
   "id": "b7a9de7f-23f5-44b1-b940-58063e7af739",
   "metadata": {},
   "outputs": [],
   "source": []
  }
 ],
 "metadata": {
  "kernelspec": {
   "display_name": "Python 3 (ipykernel)",
   "language": "python",
   "name": "python3"
  },
  "language_info": {
   "codemirror_mode": {
    "name": "ipython",
    "version": 3
   },
   "file_extension": ".py",
   "mimetype": "text/x-python",
   "name": "python",
   "nbconvert_exporter": "python",
   "pygments_lexer": "ipython3",
   "version": "3.11.13"
  }
 },
 "nbformat": 4,
 "nbformat_minor": 5
}
