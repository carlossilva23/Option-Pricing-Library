{
 "cells": [
  {
   "cell_type": "markdown",
   "id": "a714b64b-4205-4160-91d2-c1f7db06ac16",
   "metadata": {},
   "source": [
    "NumPy Quickstart "
   ]
  },
  {
   "cell_type": "markdown",
   "id": "330eb5f7-7f8c-4be6-9b34-5f5e98e1a777",
   "metadata": {},
   "source": [
    "The Basics \n",
    "\n",
    "Notes: \n",
    "- Dimensions are called axes \n",
    "- Array class is called ndarray \n",
    "- ndarray.ndim = number of axes of array \n",
    "- ndarray.shape = tuple of axes of n rows and m columns (n,m)\n",
    "- ndarray.size = total number of elements in array (n x m)\n",
    "- ndarray.dtype = object describing type of elements in array (int, numpy.int16)\n",
    "- ndarray.itemsize = size in bytes of each element in array \n",
    "- ndarray.data = buffer containing actual elements of array "
   ]
  },
  {
   "cell_type": "code",
   "execution_count": 1,
   "id": "742d12ff-6dc8-4866-b5fb-cf0a13dd19a5",
   "metadata": {},
   "outputs": [
    {
     "data": {
      "text/plain": [
       "array([[ 0,  1,  2,  3,  4],\n",
       "       [ 5,  6,  7,  8,  9],\n",
       "       [10, 11, 12, 13, 14]])"
      ]
     },
     "execution_count": 1,
     "metadata": {},
     "output_type": "execute_result"
    }
   ],
   "source": [
    "import numpy as np\n",
    "a = np.arange(15).reshape(3, 5)\n",
    "a"
   ]
  },
  {
   "cell_type": "code",
   "execution_count": 2,
   "id": "ef402658-0fa7-4f67-a58c-8a8ce04420bd",
   "metadata": {},
   "outputs": [
    {
     "data": {
      "text/plain": [
       "(3, 5)"
      ]
     },
     "execution_count": 2,
     "metadata": {},
     "output_type": "execute_result"
    }
   ],
   "source": [
    "a.shape"
   ]
  },
  {
   "cell_type": "code",
   "execution_count": 3,
   "id": "60ef72ec-77f4-45bf-baf6-1515e886de67",
   "metadata": {},
   "outputs": [
    {
     "data": {
      "text/plain": [
       "2"
      ]
     },
     "execution_count": 3,
     "metadata": {},
     "output_type": "execute_result"
    }
   ],
   "source": [
    "a.ndim "
   ]
  },
  {
   "cell_type": "code",
   "execution_count": 4,
   "id": "f8dae1e7-3288-4667-9082-7fafa23ade20",
   "metadata": {},
   "outputs": [
    {
     "data": {
      "text/plain": [
       "'int64'"
      ]
     },
     "execution_count": 4,
     "metadata": {},
     "output_type": "execute_result"
    }
   ],
   "source": [
    "a.dtype.name"
   ]
  },
  {
   "cell_type": "code",
   "execution_count": 5,
   "id": "eab1256d-62a1-4363-b577-7634d88edaf8",
   "metadata": {},
   "outputs": [
    {
     "data": {
      "text/plain": [
       "8"
      ]
     },
     "execution_count": 5,
     "metadata": {},
     "output_type": "execute_result"
    }
   ],
   "source": [
    "a.itemsize"
   ]
  },
  {
   "cell_type": "code",
   "execution_count": 6,
   "id": "dc3a45c3-8c48-4be2-9eea-4e73aea8d3fe",
   "metadata": {},
   "outputs": [
    {
     "data": {
      "text/plain": [
       "15"
      ]
     },
     "execution_count": 6,
     "metadata": {},
     "output_type": "execute_result"
    }
   ],
   "source": [
    "a.size"
   ]
  },
  {
   "cell_type": "code",
   "execution_count": 7,
   "id": "163b4af0-c66f-40d6-9f68-a52d52cc7289",
   "metadata": {},
   "outputs": [
    {
     "data": {
      "text/plain": [
       "numpy.ndarray"
      ]
     },
     "execution_count": 7,
     "metadata": {},
     "output_type": "execute_result"
    }
   ],
   "source": [
    "type(a)"
   ]
  },
  {
   "cell_type": "code",
   "execution_count": 8,
   "id": "b22a8d84-d29b-441a-820b-6b41487e1189",
   "metadata": {},
   "outputs": [
    {
     "data": {
      "text/plain": [
       "array([6, 7, 8])"
      ]
     },
     "execution_count": 8,
     "metadata": {},
     "output_type": "execute_result"
    }
   ],
   "source": [
    "b = np.array([6, 7, 8])\n",
    "b"
   ]
  },
  {
   "cell_type": "code",
   "execution_count": 9,
   "id": "59724ab5-52b2-4a3a-8d88-2770f4b7a75f",
   "metadata": {},
   "outputs": [
    {
     "data": {
      "text/plain": [
       "numpy.ndarray"
      ]
     },
     "execution_count": 9,
     "metadata": {},
     "output_type": "execute_result"
    }
   ],
   "source": [
    "type(b)"
   ]
  },
  {
   "cell_type": "markdown",
   "id": "4f5c3aa4-46c0-40b8-a462-1633a6f5dd4e",
   "metadata": {},
   "source": [
    "Array Creation \n",
    "\n",
    "Notes: \n",
    "- Can create an array from a regular python list or tuple using array function\n",
    "    - i.e. a = np.array([2, 3, 4]); use brackets and parenthesis\n",
    "- array transforms sequences of sequences into multidimensional array\n",
    "    - i.e. b = np.array([1, 2, 3], [4, 5, 6])\n",
    "    - b = [[1, 2, 3]\n",
    "          [4, 5, 6]]\n",
    "- type of array can be explicitly specified at creation time\n",
    "    - i.e. c = np.array([1, 2, 3], dtype=complex)\n",
    "- zeros creates an array filled with zeros\n",
    "- ones creates an array filled with ones\n",
    "- empty creates an array with content depending on state of memory\n",
    "- arange function provides sequence of numbers analogous to python's range (accepts float arguments)\n",
    "- linspace works better for floats with last number being number of elements versus the arange's step\n",
    "    - i.e. np.linspace(0, 2, 9) gives off 9 numbers from 0 to 2"
   ]
  },
  {
   "cell_type": "code",
   "execution_count": 10,
   "id": "0d5715f3-7b03-4528-bbaf-f580db1db8eb",
   "metadata": {},
   "outputs": [
    {
     "data": {
      "text/plain": [
       "array([0.  , 0.25, 0.5 , 0.75, 1.  , 1.25, 1.5 , 1.75, 2.  ])"
      ]
     },
     "execution_count": 10,
     "metadata": {},
     "output_type": "execute_result"
    }
   ],
   "source": [
    "from numpy import pi\n",
    "np.linspace(0, 2, 9)"
   ]
  },
  {
   "cell_type": "code",
   "execution_count": 11,
   "id": "5798535e-899d-4f54-8af6-1276a211a0d1",
   "metadata": {},
   "outputs": [
    {
     "data": {
      "text/plain": [
       "array([0.        , 0.06346652, 0.12693304, 0.19039955, 0.25386607,\n",
       "       0.31733259, 0.38079911, 0.44426563, 0.50773215, 0.57119866,\n",
       "       0.63466518, 0.6981317 , 0.76159822, 0.82506474, 0.88853126,\n",
       "       0.95199777, 1.01546429, 1.07893081, 1.14239733, 1.20586385,\n",
       "       1.26933037, 1.33279688, 1.3962634 , 1.45972992, 1.52319644,\n",
       "       1.58666296, 1.65012947, 1.71359599, 1.77706251, 1.84052903,\n",
       "       1.90399555, 1.96746207, 2.03092858, 2.0943951 , 2.15786162,\n",
       "       2.22132814, 2.28479466, 2.34826118, 2.41172769, 2.47519421,\n",
       "       2.53866073, 2.60212725, 2.66559377, 2.72906028, 2.7925268 ,\n",
       "       2.85599332, 2.91945984, 2.98292636, 3.04639288, 3.10985939,\n",
       "       3.17332591, 3.23679243, 3.30025895, 3.36372547, 3.42719199,\n",
       "       3.4906585 , 3.55412502, 3.61759154, 3.68105806, 3.74452458,\n",
       "       3.8079911 , 3.87145761, 3.93492413, 3.99839065, 4.06185717,\n",
       "       4.12532369, 4.1887902 , 4.25225672, 4.31572324, 4.37918976,\n",
       "       4.44265628, 4.5061228 , 4.56958931, 4.63305583, 4.69652235,\n",
       "       4.75998887, 4.82345539, 4.88692191, 4.95038842, 5.01385494,\n",
       "       5.07732146, 5.14078798, 5.2042545 , 5.26772102, 5.33118753,\n",
       "       5.39465405, 5.45812057, 5.52158709, 5.58505361, 5.64852012,\n",
       "       5.71198664, 5.77545316, 5.83891968, 5.9023862 , 5.96585272,\n",
       "       6.02931923, 6.09278575, 6.15625227, 6.21971879, 6.28318531])"
      ]
     },
     "execution_count": 11,
     "metadata": {},
     "output_type": "execute_result"
    }
   ],
   "source": [
    "x = np.linspace(0, 2 * pi, 100)\n",
    "x"
   ]
  },
  {
   "cell_type": "code",
   "execution_count": 12,
   "id": "7ebebae6-5819-4acb-85ed-35e09f10979e",
   "metadata": {},
   "outputs": [
    {
     "data": {
      "text/plain": [
       "array([ 0.00000000e+00,  6.34239197e-02,  1.26592454e-01,  1.89251244e-01,\n",
       "        2.51147987e-01,  3.12033446e-01,  3.71662456e-01,  4.29794912e-01,\n",
       "        4.86196736e-01,  5.40640817e-01,  5.92907929e-01,  6.42787610e-01,\n",
       "        6.90079011e-01,  7.34591709e-01,  7.76146464e-01,  8.14575952e-01,\n",
       "        8.49725430e-01,  8.81453363e-01,  9.09631995e-01,  9.34147860e-01,\n",
       "        9.54902241e-01,  9.71811568e-01,  9.84807753e-01,  9.93838464e-01,\n",
       "        9.98867339e-01,  9.99874128e-01,  9.96854776e-01,  9.89821442e-01,\n",
       "        9.78802446e-01,  9.63842159e-01,  9.45000819e-01,  9.22354294e-01,\n",
       "        8.95993774e-01,  8.66025404e-01,  8.32569855e-01,  7.95761841e-01,\n",
       "        7.55749574e-01,  7.12694171e-01,  6.66769001e-01,  6.18158986e-01,\n",
       "        5.67059864e-01,  5.13677392e-01,  4.58226522e-01,  4.00930535e-01,\n",
       "        3.42020143e-01,  2.81732557e-01,  2.20310533e-01,  1.58001396e-01,\n",
       "        9.50560433e-02,  3.17279335e-02, -3.17279335e-02, -9.50560433e-02,\n",
       "       -1.58001396e-01, -2.20310533e-01, -2.81732557e-01, -3.42020143e-01,\n",
       "       -4.00930535e-01, -4.58226522e-01, -5.13677392e-01, -5.67059864e-01,\n",
       "       -6.18158986e-01, -6.66769001e-01, -7.12694171e-01, -7.55749574e-01,\n",
       "       -7.95761841e-01, -8.32569855e-01, -8.66025404e-01, -8.95993774e-01,\n",
       "       -9.22354294e-01, -9.45000819e-01, -9.63842159e-01, -9.78802446e-01,\n",
       "       -9.89821442e-01, -9.96854776e-01, -9.99874128e-01, -9.98867339e-01,\n",
       "       -9.93838464e-01, -9.84807753e-01, -9.71811568e-01, -9.54902241e-01,\n",
       "       -9.34147860e-01, -9.09631995e-01, -8.81453363e-01, -8.49725430e-01,\n",
       "       -8.14575952e-01, -7.76146464e-01, -7.34591709e-01, -6.90079011e-01,\n",
       "       -6.42787610e-01, -5.92907929e-01, -5.40640817e-01, -4.86196736e-01,\n",
       "       -4.29794912e-01, -3.71662456e-01, -3.12033446e-01, -2.51147987e-01,\n",
       "       -1.89251244e-01, -1.26592454e-01, -6.34239197e-02, -2.44929360e-16])"
      ]
     },
     "execution_count": 12,
     "metadata": {},
     "output_type": "execute_result"
    }
   ],
   "source": [
    "f = np.sin(x)\n",
    "f"
   ]
  },
  {
   "cell_type": "markdown",
   "id": "9e3db8c1-5d70-4b98-bc7d-458e4a016bd6",
   "metadata": {},
   "source": [
    "Printing Arrays \n",
    "\n",
    "Notes:\n",
    "- When you print an array, NumPy displays it in a similar way to nested lists\n",
    "    - the last axis is printed from left to right\n",
    "    - the second-to-last is printed from top to bottom\n",
    "    - the rest are also printed from top to bottom, with each slice separated from the next by an empty line\n",
    "- If an array is too large to be printed, NumPy automaticallly skips the central part and only prints the corners"
   ]
  },
  {
   "cell_type": "code",
   "execution_count": 13,
   "id": "23981af4-1427-4904-8826-076ae57811c1",
   "metadata": {},
   "outputs": [
    {
     "name": "stdout",
     "output_type": "stream",
     "text": [
      "[0 1 2 3 4]\n"
     ]
    }
   ],
   "source": [
    "a = np.arange(5)\n",
    "print(a)"
   ]
  },
  {
   "cell_type": "code",
   "execution_count": 14,
   "id": "ee42d0a2-17ed-4ee6-943d-ddab9ec50783",
   "metadata": {},
   "outputs": [
    {
     "data": {
      "text/plain": [
       "array([[ 0,  1,  2],\n",
       "       [ 3,  4,  5],\n",
       "       [ 6,  7,  8],\n",
       "       [ 9, 10, 11]])"
      ]
     },
     "execution_count": 14,
     "metadata": {},
     "output_type": "execute_result"
    }
   ],
   "source": [
    "b = np.arange(12).reshape(4,3)\n",
    "b"
   ]
  },
  {
   "cell_type": "markdown",
   "id": "605aedae-e3d3-4b72-ab58-d3c3125bd155",
   "metadata": {},
   "source": [
    "print(b)"
   ]
  },
  {
   "cell_type": "code",
   "execution_count": 15,
   "id": "72b0de70-6001-40b5-8705-ad87d73f1ae9",
   "metadata": {},
   "outputs": [
    {
     "name": "stdout",
     "output_type": "stream",
     "text": [
      "[[[ 0  1  2  3]\n",
      "  [ 4  5  6  7]\n",
      "  [ 8  9 10 11]]\n",
      "\n",
      " [[12 13 14 15]\n",
      "  [16 17 18 19]\n",
      "  [20 21 22 23]]]\n"
     ]
    }
   ],
   "source": [
    "c = np.arange(24).reshape(2, 3, 4)\n",
    "print(c)"
   ]
  },
  {
   "cell_type": "code",
   "execution_count": 16,
   "id": "e3165bd2-3981-4e15-909e-30d4e5c4ea1e",
   "metadata": {},
   "outputs": [
    {
     "name": "stdout",
     "output_type": "stream",
     "text": [
      "[   0    1    2 ... 9997 9998 9999]\n"
     ]
    }
   ],
   "source": [
    "print(np.arange(10000))"
   ]
  },
  {
   "cell_type": "markdown",
   "id": "24d23f72-1f4c-4d70-88d6-2586aa265a47",
   "metadata": {},
   "source": [
    "Basic Operations \n",
    "\n",
    "Notes: \n",
    "- Arithmetic operators on arrays apply elementwise, new array is created and filled with result"
   ]
  },
  {
   "cell_type": "code",
   "execution_count": 17,
   "id": "2b175679-17b9-4b12-b231-e9a16f94cf62",
   "metadata": {},
   "outputs": [
    {
     "name": "stdout",
     "output_type": "stream",
     "text": [
      "[20 29 38 47]\n"
     ]
    }
   ],
   "source": [
    "a = np.array([20, 30, 40, 50])\n",
    "b = np.arange(4)\n",
    "c = a - b\n",
    "print(c)"
   ]
  },
  {
   "cell_type": "markdown",
   "id": "a4de66fe-37c4-4e3e-8353-b9e99760ac30",
   "metadata": {},
   "source": [
    "- The product operator (*) operates elementwise in NumPy.\n",
    "- The matrix product operator can either be used with @ or the dot function."
   ]
  },
  {
   "cell_type": "code",
   "execution_count": 18,
   "id": "0d220e30-2514-4c14-9c0c-92f10c24d36a",
   "metadata": {},
   "outputs": [
    {
     "name": "stdout",
     "output_type": "stream",
     "text": [
      "[[5 4]\n",
      " [3 4]]\n",
      "[[5 4]\n",
      " [3 4]]\n"
     ]
    }
   ],
   "source": [
    "a = np.array([[1, 1],[0,1]])\n",
    "b = np.array([[2, 0], [3,4]])\n",
    "print(a @ b)\n",
    "print(a.dot(b))"
   ]
  },
  {
   "cell_type": "markdown",
   "id": "38015cb1-2389-416a-ae49-4ea2798a4eba",
   "metadata": {},
   "source": [
    "- Some operations, such as += and *=, act in place to modify an exisiting array rather than to create a new one."
   ]
  },
  {
   "cell_type": "code",
   "execution_count": 19,
   "id": "03189be7-1d7c-44ba-bd8c-4b052cf06356",
   "metadata": {},
   "outputs": [
    {
     "name": "stdout",
     "output_type": "stream",
     "text": [
      "[3 6 9]\n"
     ]
    }
   ],
   "source": [
    "a = np.array([1, 2, 3])\n",
    "a *= 3\n",
    "print(a)"
   ]
  },
  {
   "cell_type": "code",
   "execution_count": 20,
   "id": "64d868bd-94e3-4f04-8b0e-33099edfd016",
   "metadata": {},
   "outputs": [
    {
     "name": "stdout",
     "output_type": "stream",
     "text": [
      "[10 13 16]\n"
     ]
    }
   ],
   "source": [
    "a += 7\n",
    "print(a)"
   ]
  },
  {
   "cell_type": "markdown",
   "id": "efa57e38-3e60-4e9c-baac-d4a58260cfea",
   "metadata": {},
   "source": [
    "- When operating with arrays of different types, the type of the resulting array will be the more general or more precise one (this behavior is called upcasting). "
   ]
  },
  {
   "cell_type": "code",
   "execution_count": 21,
   "id": "6842aa51-1cfc-4f20-8b2a-6b8a07a8b26f",
   "metadata": {},
   "outputs": [
    {
     "name": "stdout",
     "output_type": "stream",
     "text": [
      "[0 1 2]\n",
      "[0.         1.57079633 3.14159265]\n",
      "[0.         2.57079633 5.14159265]\n"
     ]
    }
   ],
   "source": [
    "a = np.arange(3)\n",
    "b = np.linspace(0, pi, 3)\n",
    "print(a)\n",
    "print(b)\n",
    "c = a + b\n",
    "print(c)"
   ]
  },
  {
   "cell_type": "markdown",
   "id": "4d3f923d-30a1-44d1-9dee-272db6baaaf9",
   "metadata": {},
   "source": [
    "- Many unary operators, such as computing the sum of all elements in the array are implemented as methods of the ndarray class."
   ]
  },
  {
   "cell_type": "code",
   "execution_count": 22,
   "id": "634a3141-4013-43cd-b71f-6589b9207523",
   "metadata": {},
   "outputs": [
    {
     "name": "stdout",
     "output_type": "stream",
     "text": [
      "[0 1 2 3 4 5 6 7 8 9]\n",
      "45\n",
      "9\n",
      "0\n"
     ]
    }
   ],
   "source": [
    "a = np.arange(10)\n",
    "print(a)\n",
    "print(a.sum())\n",
    "print(a.max())\n",
    "print(a.min())"
   ]
  },
  {
   "cell_type": "markdown",
   "id": "1cbcc898-04e1-414f-b672-c7da149bb9ac",
   "metadata": {},
   "source": [
    "- Can apply these same operations to a specific axis"
   ]
  },
  {
   "cell_type": "code",
   "execution_count": 23,
   "id": "5bb562b4-8df1-427f-928a-867c49f1ee2b",
   "metadata": {},
   "outputs": [
    {
     "name": "stdout",
     "output_type": "stream",
     "text": [
      "[ 60  80 100 120]\n",
      "[10 50]\n",
      "[[ 10  30  60 100]\n",
      " [ 50 110 180 260]]\n"
     ]
    }
   ],
   "source": [
    "a = np.array([[10, 20, 30, 40],[50, 60, 70, 80]])\n",
    "print(a.sum(axis=0))\n",
    "print(a.min(axis=1))\n",
    "print(a.cumsum(axis=1))"
   ]
  },
  {
   "cell_type": "markdown",
   "id": "b5814b18-26f5-419b-b8d6-eefb7a400d8e",
   "metadata": {},
   "source": [
    "Universal Functions\n",
    "\n",
    "Notes: \n",
    "- NumPy provides familiar mathematical functions like sin, cos, exp.\n",
    "- These are called universal functions or ufunc.\n",
    "- Functions operate elementwise on an array, producing an array as output. "
   ]
  },
  {
   "cell_type": "code",
   "execution_count": 24,
   "id": "54df089b-5573-4e91-a46e-3024972906dc",
   "metadata": {},
   "outputs": [
    {
     "name": "stdout",
     "output_type": "stream",
     "text": [
      "[ 1.          2.71828183  7.3890561  20.08553692 54.59815003]\n",
      "[ 0.          0.84147098  0.90929743  0.14112001 -0.7568025 ]\n",
      "[ 1.          0.54030231 -0.41614684 -0.9899925  -0.65364362]\n"
     ]
    }
   ],
   "source": [
    "b = np.arange(5)\n",
    "print(np.exp(b))\n",
    "print(np.sin(b))\n",
    "print(np.cos(b))"
   ]
  },
  {
   "cell_type": "markdown",
   "id": "061b498a-6eaa-411e-9a10-08e0a24fcb53",
   "metadata": {},
   "source": [
    "Indexing, Slicing, and Iterating \n",
    "\n",
    "Notes:\n",
    "- 1-D arrays can be indexed, sliced, and iterated over like lists in Python\n",
    "- Multidimensional arrays can have one index per axis; given in a tuple seperated by commas\n",
    "- Can use the dots (...), to fill in multiple axis indices\n",
    "    - i.e. 5-D array, and you write x[0, ...], this fills in the rest of the indices needed\n",
    "- Iterating over multidimensional arrays is done with respect to the first axis (rows)\n",
    "- When wanting to perform an operation to each element in the array (not all arrays in multidimensional array are the same length), you use the flat function (x.flat)"
   ]
  },
  {
   "cell_type": "code",
   "execution_count": 25,
   "id": "2053c6e9-1a3c-4cf0-9cbb-af9d7bc54d68",
   "metadata": {},
   "outputs": [
    {
     "name": "stdout",
     "output_type": "stream",
     "text": [
      "[  0   1   8  27  64 125 216 343 512 729]\n",
      "8\n",
      "[ 8 27 64]\n",
      "[1000    1 1000   27 1000  125  216  343  512  729]\n"
     ]
    }
   ],
   "source": [
    "a = np.arange(10)**3\n",
    "print(a)\n",
    "print(a[2])\n",
    "print(a[2:5])\n",
    "a[:6:2] = 1000\n",
    "print(a)"
   ]
  },
  {
   "cell_type": "code",
   "execution_count": 26,
   "id": "fc4c2585-4924-41ed-931d-413388d4601c",
   "metadata": {},
   "outputs": [
    {
     "name": "stdout",
     "output_type": "stream",
     "text": [
      "[[ 0  1  2  3  4  5  6  7]\n",
      " [ 8  9 10 11 12 13 14 15]\n",
      " [16 17 18 19 20 21 22 23]]\n",
      "19\n",
      "[10 18]\n"
     ]
    }
   ],
   "source": [
    "b = np.arange(24).reshape(3,8)\n",
    "print(b)\n",
    "print(b[2,3])\n",
    "print(b[1:3, 2])"
   ]
  },
  {
   "cell_type": "code",
   "execution_count": 27,
   "id": "f7e21459-24bc-4b6f-9fd5-45fb5af46531",
   "metadata": {},
   "outputs": [
    {
     "name": "stdout",
     "output_type": "stream",
     "text": [
      "[0 1 2 3 4 5 6 7]\n",
      "[ 8  9 10 11 12 13 14 15]\n",
      "[16 17 18 19 20 21 22 23]\n"
     ]
    }
   ],
   "source": [
    "for row in b: \n",
    "    print(row)"
   ]
  },
  {
   "cell_type": "code",
   "execution_count": 28,
   "id": "635083ee-589e-4a8a-ac8a-5b471a838e6d",
   "metadata": {},
   "outputs": [
    {
     "name": "stdout",
     "output_type": "stream",
     "text": [
      "0\n",
      "1\n",
      "2\n",
      "3\n",
      "4\n",
      "5\n",
      "6\n",
      "7\n",
      "8\n",
      "9\n",
      "10\n",
      "11\n",
      "12\n",
      "13\n",
      "14\n",
      "15\n",
      "16\n",
      "17\n",
      "18\n",
      "19\n",
      "20\n",
      "21\n",
      "22\n",
      "23\n"
     ]
    }
   ],
   "source": [
    "for element in b.flat:\n",
    "    print(element)"
   ]
  },
  {
   "cell_type": "markdown",
   "id": "8a4ed290-2283-45b2-8106-46148d651ce9",
   "metadata": {},
   "source": [
    "Shape Manipulation \n",
    "\n",
    "Changing the Shape of an Array \n",
    "\n",
    "Notes: \n",
    "- The shape of an array can be changed with various commands, all return a modified array but don't change the original array\n",
    "- .ravel() returns a flattened array\n",
    "- .reshape() changes to given shape\n",
    "- .T() returns transposed array\n",
    "- ndarray.resize modifies array itself (changes original array)\n",
    "- If a dimension is given a -1, then the reshaping is automatically calculated"
   ]
  },
  {
   "cell_type": "code",
   "execution_count": 29,
   "id": "0f5aef35-00f2-4489-8f30-0463def506c5",
   "metadata": {},
   "outputs": [
    {
     "name": "stdout",
     "output_type": "stream",
     "text": [
      "[[ 0  1  2  3  4  5]\n",
      " [ 6  7  8  9 10 11]\n",
      " [12 13 14 15 16 17]\n",
      " [18 19 20 21 22 23]\n",
      " [24 25 26 27 28 29]\n",
      " [30 31 32 33 34 35]]\n",
      "[ 0  1  2  3  4  5  6  7  8  9 10 11 12 13 14 15 16 17 18 19 20 21 22 23\n",
      " 24 25 26 27 28 29 30 31 32 33 34 35]\n",
      "[[ 0  1  2  3  4  5  6  7  8  9 10 11]\n",
      " [12 13 14 15 16 17 18 19 20 21 22 23]\n",
      " [24 25 26 27 28 29 30 31 32 33 34 35]]\n",
      "[[ 0  6 12 18 24 30]\n",
      " [ 1  7 13 19 25 31]\n",
      " [ 2  8 14 20 26 32]\n",
      " [ 3  9 15 21 27 33]\n",
      " [ 4 10 16 22 28 34]\n",
      " [ 5 11 17 23 29 35]]\n",
      "[[ 0  1  2  3  4  5  6  7  8  9 10 11 12 13 14 15 16 17]\n",
      " [18 19 20 21 22 23 24 25 26 27 28 29 30 31 32 33 34 35]]\n"
     ]
    }
   ],
   "source": [
    "a = np.arange(36).reshape(6,6)\n",
    "print(a)\n",
    "print(a.ravel())\n",
    "print(a.reshape(3,12))\n",
    "print(a.T)\n",
    "print(a.reshape(2, -1))"
   ]
  },
  {
   "cell_type": "markdown",
   "id": "0f0e0449-a501-4a70-b84c-42127ac11f6e",
   "metadata": {},
   "source": [
    "Stacking Together Different Arrays \n",
    "\n",
    "Notes: \n",
    "- Several arrays can be stacked together along different axes using hstack or vstack\n",
    "- The function column_stack stacks 1-D arrays as columns into a 2D array (equivalent to hstack only for 2D arrays)\n",
    "- newaxis (has to be imported) is a constant equal to none in order to be able to insert an index when needed\n",
    "- In general for arrys with more than two dimensions, hstack stacks along their second axes, vstack stacks along their first axes, and concatenate allows for optional arguments giving the number of the axis along which the concatenation should happen\n",
    "- r__ and c__ allow for stacking of different array with different ranges "
   ]
  },
  {
   "cell_type": "code",
   "execution_count": 33,
   "id": "f2edfe4f-a69f-4e88-b317-1b1f44d51268",
   "metadata": {},
   "outputs": [
    {
     "name": "stdout",
     "output_type": "stream",
     "text": [
      "[[0 1]\n",
      " [2 3]\n",
      " [0 1]\n",
      " [2 3]]\n",
      "[[0 1 0 1]\n",
      " [2 3 2 3]]\n",
      "[[0 1 0 1]\n",
      " [2 3 2 3]]\n"
     ]
    }
   ],
   "source": [
    "a = np.arange(4).reshape(2,2)\n",
    "b = np.arange(4).reshape(2,2)\n",
    "print(np.vstack((a,b)))\n",
    "print(np.hstack((a,b)))\n",
    "print(np.column_stack((a,b)))"
   ]
  },
  {
   "cell_type": "code",
   "execution_count": null,
   "id": "eb1fade0-e2fc-468b-acfb-2adb4009879a",
   "metadata": {},
   "outputs": [],
   "source": []
  }
 ],
 "metadata": {
  "kernelspec": {
   "display_name": "Python 3 (ipykernel)",
   "language": "python",
   "name": "python3"
  },
  "language_info": {
   "codemirror_mode": {
    "name": "ipython",
    "version": 3
   },
   "file_extension": ".py",
   "mimetype": "text/x-python",
   "name": "python",
   "nbconvert_exporter": "python",
   "pygments_lexer": "ipython3",
   "version": "3.11.13"
  }
 },
 "nbformat": 4,
 "nbformat_minor": 5
}
