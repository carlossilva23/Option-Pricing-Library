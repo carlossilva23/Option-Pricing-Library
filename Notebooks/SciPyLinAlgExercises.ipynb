{
 "cells": [
  {
   "cell_type": "markdown",
   "id": "649e8ef1-13ef-42a0-97fc-c4d5ddd1069f",
   "metadata": {},
   "source": [
    "Matrix Solvers (Ax = b)\n",
    "\n",
    "1. Solve the linear system Ax = b where:\n",
    "\n",
    "A = [3 2], b = [5]\n",
    "    [1, 4]     [6]\n",
    "\n",
    "using scipy.linalg.solve().\n",
    "\n",
    "2. Solve a 3×3 system where one equation is a linear combination of others. What happens?\n",
    "(Use scipy.linalg.solve and try to interpret any error.)\n",
    "\n",
    "3. Solve a system with a random 4×4 matrix A and random b vector. Set the seed so results are reproducible.\n",
    "Verify the solution using np.allclose(np.dot(A, x), b).\n",
    "\n",
    "\n",
    "Eigenvalues & Eigenvectors\n",
    "\n",
    "4. Compute the eigenvalues and right eigenvectors of the matrix:\n",
    "\n",
    "A = [4 -2]\n",
    "    [1  1]\n",
    "\n",
    "using scipy.linalg.eig().\n",
    "\n",
    "5. Verify that 𝐴 ⋅ 𝑣 = 𝜆 ⋅ 𝑣 for one eigenpair manually.\n",
    "\n",
    "6. Generate a 3×3 symmetric matrix and compute its eigenvalues. Are they all real?\n",
    "\n",
    "7. Generate a non-symmetric 3×3 matrix and compute its eigenvalues. Are any complex?\n",
    "\n",
    "8. Compare numpy.linalg.eig() and scipy.linalg.eig() on the same matrix. Do the results match?\n",
    "\n",
    "9. Given a diagonal matrix, compute its eigenvalues and eigenvectors. What do you notice?\n",
    "\n",
    "\n",
    "Singular Value Decomposition (SVD)\n",
    "\n",
    "10. Compute the SVD of a 3×2 matrix using scipy.linalg.svd(). What are the shapes of U, S, and Vh?\n",
    "\n",
    "11. Reconstruct the original matrix from the SVD components. Verify with np.allclose().\n",
    "\n",
    "12. Use SVD to reduce the rank of a 4×3 matrix by zeroing out small singular values. Compare original and reduced versions visually.\n",
    "\n",
    "13. Generate a random matrix with linearly dependent columns. Compute its rank using SVD.\n",
    "\n",
    "14. Create a grayscale image matrix (e.g., use np.outer(sin(x), cos(y))), apply SVD, and reconstruct it using only the first 2 singular values. What’s the visual effect?\n",
    "\n",
    "\n",
    "Conceptual/Application: \n",
    "\n",
    "15. Why might SVD be more numerically stable than computing eigenvalues directly for real-world data applications (e.g., in finance or ML)?"
   ]
  }
 ],
 "metadata": {
  "kernelspec": {
   "display_name": "Python 3 (ipykernel)",
   "language": "python",
   "name": "python3"
  },
  "language_info": {
   "codemirror_mode": {
    "name": "ipython",
    "version": 3
   },
   "file_extension": ".py",
   "mimetype": "text/x-python",
   "name": "python",
   "nbconvert_exporter": "python",
   "pygments_lexer": "ipython3",
   "version": "3.11.13"
  }
 },
 "nbformat": 4,
 "nbformat_minor": 5
}
