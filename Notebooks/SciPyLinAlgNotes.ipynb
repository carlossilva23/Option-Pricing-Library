{
 "cells": [
  {
   "cell_type": "markdown",
   "id": "3815d978-733e-48b3-8c3b-42af6ea666a2",
   "metadata": {},
   "source": [
    "Basic Routines\n",
    "\n",
    "Finding the Inverse: \n",
    "- The inverse of a matrix A is the matrix B, such that AB = I, where I is the identitiy matrix consisting of ones down the main diagonal. Usually, B is denoted B = A^-1.\n",
    "- In SciPy, the matrix inverse of the NumPy array, A, is obtained using linalg.inv(A) or A.I if A is a matrix."
   ]
  },
  {
   "cell_type": "code",
   "execution_count": 1,
   "id": "f4337dc5-4d83-4be8-932e-a72d9b52d43f",
   "metadata": {},
   "outputs": [
    {
     "name": "stdout",
     "output_type": "stream",
     "text": [
      "[[-0.05586592  0.17877095  0.01675978]\n",
      " [ 0.15083799  0.11731844 -0.1452514 ]\n",
      " [ 0.03351955 -0.30726257  0.18994413]]\n"
     ]
    }
   ],
   "source": [
    "import numpy as np\n",
    "from scipy import linalg \n",
    "\n",
    "A = np.array([[4, 7, 5], [6, 2, 1], [9, 2, 6]])\n",
    "Inv = linalg.inv(A)\n",
    "print(Inv)"
   ]
  },
  {
   "cell_type": "code",
   "execution_count": 2,
   "id": "da72fa92-4f5d-4d7a-84a5-76804eb77dd8",
   "metadata": {},
   "outputs": [
    {
     "name": "stdout",
     "output_type": "stream",
     "text": [
      "[[ 1.00000000e+00  0.00000000e+00 -2.22044605e-16]\n",
      " [ 4.16333634e-17  1.00000000e+00 -5.55111512e-17]\n",
      " [ 2.77555756e-17  2.22044605e-16  1.00000000e+00]]\n"
     ]
    }
   ],
   "source": [
    "Ident = A.dot(linalg.inv(A))\n",
    "print(Ident)"
   ]
  },
  {
   "cell_type": "markdown",
   "id": "eea9c1cd-982b-4fcd-a1b3-719d7fb42dcf",
   "metadata": {},
   "source": [
    "Remember that a matrix can only have an inverse if it's determinant is not zero. When creating array examples,\n",
    "use random numbers for the arrays because in arrays like; [[1, 2, 3], [4, 5, 6], [7, 8, 9]], rows depend on each other and this creates what's called a singular matrix and therefore does not have an inverse. Sometimes an error will pop up but not all the time. "
   ]
  },
  {
   "cell_type": "markdown",
   "id": "47c03341-1b87-419c-9365-8855ef1be717",
   "metadata": {},
   "source": [
    "Solving a Linear System: \n",
    "\n",
    "- Linear System: a collection of linear equations, where the number of equations matches the number of variables. allowing for an algebraic solution\n",
    "- ex: y = 3x + 1, y = -2x + 7; two equations, two variables (x, y)\n",
    "- solve these using linalg.solve()\n",
    "- expects an input matrix and a right-hand side vector; solution vector is then computed"
   ]
  },
  {
   "cell_type": "code",
   "execution_count": 3,
   "id": "05125680-017b-43b8-b369-a59658fc0061",
   "metadata": {},
   "outputs": [
    {
     "name": "stdout",
     "output_type": "stream",
     "text": [
      "[1. 2.]\n"
     ]
    }
   ],
   "source": [
    "# Equation 1: 2x + 3y = 8\n",
    "# Equation 2: 4x - y = 2\n",
    "A = np.array([[2, 3], [4, -1]])\n",
    "B = np.array([8, 2])\n",
    "solution = linalg.solve(A, B)\n",
    "print(solution)"
   ]
  },
  {
   "cell_type": "markdown",
   "id": "e68becaf-4cc0-4423-b25a-2e9bbcac3160",
   "metadata": {},
   "source": [
    "2(1) + 3(2) = 8 # Correct\n",
    "\n",
    "4(1) - (2) = 2  # Correct \n",
    "\n",
    "Notes on Linear Systems: \n",
    "- The matrix A must be square\n",
    "- A must be non-singular (i.e., invertible)\n",
    "- The vector b should have the same number of rows as A"
   ]
  },
  {
   "cell_type": "markdown",
   "id": "61a47edd-5de4-4196-af13-79e30a04bc4f",
   "metadata": {},
   "source": [
    "Finding the Determinant: \n",
    "\n"
   ]
  }
 ],
 "metadata": {
  "kernelspec": {
   "display_name": "Python 3 (ipykernel)",
   "language": "python",
   "name": "python3"
  },
  "language_info": {
   "codemirror_mode": {
    "name": "ipython",
    "version": 3
   },
   "file_extension": ".py",
   "mimetype": "text/x-python",
   "name": "python",
   "nbconvert_exporter": "python",
   "pygments_lexer": "ipython3",
   "version": "3.11.13"
  }
 },
 "nbformat": 4,
 "nbformat_minor": 5
}
