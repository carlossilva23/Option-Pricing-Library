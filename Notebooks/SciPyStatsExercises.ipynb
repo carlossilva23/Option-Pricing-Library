{
 "cells": [
  {
   "cell_type": "markdown",
   "id": "b3e3c08f-8f05-4eab-85c6-45d5530e46cc",
   "metadata": {},
   "source": [
    "Normal Distribution \n",
    "\n",
    "1. Generate 1,000 samples from a standard normal distribution.\n",
    "2. Plot the PDF and CDF of a normal distribution with mean = 2, std = 1.5 on the same chart.\n",
    "3. Compute the probability that a normally distributed variable with μ=0, σ=1 is less than -1.\n",
    "4. What is the z-score threshold for the 95th percentile?\n",
    "5. Given a sample of 10,000 standard normal values, compute the sample mean and compare it to the theoretical mean.\n",
    "\n",
    "Lognormal Distribution \n",
    "\n",
    "6. Generate 10,000 samples from a lognormal distribution with parameters: s = 0.2 (shape), scale = np.exp(0.05).\n",
    "7. Plot a histogram of the samples with the PDF curve overlaid.\n",
    "8. Compute the mean and variance of this lognormal distribution using .mean() and .var() methods.\n",
    "9. What is the probability that a sample is greater than 1.2 in this distribution?\n",
    "10. Use .ppf() to find the value below which 80% of lognormal samples would fall.\n",
    "\n",
    "Uniform Distribution \n",
    "\n",
    "11. Generate 5,000 samples from a uniform distribution between 10 and 20.\n",
    "12. Plot the histogram of the samples and overlay the theoretical PDF.\n",
    "13. Compute the probability that a uniform random variable in [10, 20] falls between 12 and 18.\n",
    "14. Find the 25th and 75th percentiles of this uniform distribution using .ppf().\n",
    "15. Compute the mean and variance using both .mean()/.var() and the sample itself.\n",
    "\n",
    "Exponential Distribution \n",
    "\n",
    "16. Generate 10,000 samples from an exponential distribution with scale = 1.5.\n",
    "17. Plot the histogram and the corresponding PDF curve.\n",
    "18. Compute the probability that an event occurs after time t = 2.\n",
    "19. Calculate the expected value and standard deviation using .mean() and .std().\n",
    "20. Using the .cdf() function, determine the time t such that 90% of events occur before t."
   ]
  },
  {
   "cell_type": "code",
   "execution_count": null,
   "id": "838a4e2b-9d8c-4759-893b-0f645d120902",
   "metadata": {},
   "outputs": [],
   "source": []
  }
 ],
 "metadata": {
  "kernelspec": {
   "display_name": "Python 3 (ipykernel)",
   "language": "python",
   "name": "python3"
  },
  "language_info": {
   "codemirror_mode": {
    "name": "ipython",
    "version": 3
   },
   "file_extension": ".py",
   "mimetype": "text/x-python",
   "name": "python",
   "nbconvert_exporter": "python",
   "pygments_lexer": "ipython3",
   "version": "3.11.13"
  }
 },
 "nbformat": 4,
 "nbformat_minor": 5
}
