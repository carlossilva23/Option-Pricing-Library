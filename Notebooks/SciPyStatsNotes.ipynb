{
 "cells": [
  {
   "cell_type": "markdown",
   "id": "7425b97f-6360-497f-b81a-13433a565e57",
   "metadata": {},
   "source": [
    "SciPy Stats Module \n",
    "\n",
    "Normal Distributions: \n",
    "- a normal continuous random variable\n",
    "- loc keyword specifies mean\n",
    "- scale keyword specifies standard deviation\n",
    "\n",
    "Methods: \n",
    "- rvs(loc=, scale=, size=): random variates\n",
    "    - loc is mean\n",
    "    - scale is standard deviation\n",
    "    - size is samples\n",
    "- pdf(x, loc=, scale=): probability density function\n",
    "    - x is the value you want to find the pdf for (could be a range) \n",
    "- cdf(x, loc=, scale=): cumulative distribution function\n",
    "    - x is the value you want to find the cdf for (could be a range) \n",
    "- sf(x, loc=, scale=): survival function; also defined as 1 - cdf\n",
    "- isf(q, loc=, scale=): inverse survival function \n",
    "- ppf(q, loc=, scale=): percent point function; inverse of cdf - percentiles\n",
    "    - also called the z-threshold \n",
    "- stats(loc=, scale=, moments=): brings up the stats of the distribution\n",
    "    - in moments type 'm', 'v', 's', or 'k'\n",
    "    - m = mean\n",
    "    - v = variance\n",
    "    - s = skew\n",
    "    - k = kurtosis\n",
    "- interval(confidence, loc=, scale=): confidence interval with equal areas around the median\n",
    "    - confidence is percentage "
   ]
  }
 ],
 "metadata": {
  "kernelspec": {
   "display_name": "Python 3 (ipykernel)",
   "language": "python",
   "name": "python3"
  },
  "language_info": {
   "codemirror_mode": {
    "name": "ipython",
    "version": 3
   },
   "file_extension": ".py",
   "mimetype": "text/x-python",
   "name": "python",
   "nbconvert_exporter": "python",
   "pygments_lexer": "ipython3",
   "version": "3.11.13"
  }
 },
 "nbformat": 4,
 "nbformat_minor": 5
}
